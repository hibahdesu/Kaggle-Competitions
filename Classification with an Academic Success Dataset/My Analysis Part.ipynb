{
 "cells": [
  {
   "cell_type": "markdown",
   "id": "be3a2258",
   "metadata": {},
   "source": [
    "<h1 style='font-size:38px; align-item: center; color: #92B24B;'>Classification with an Academic Success Dataset</h1>"
   ]
  },
  {
   "cell_type": "markdown",
   "id": "20dfaaf9",
   "metadata": {},
   "source": [
    "\n",
    "<img src=\"header.png\" style=\"margin: 0 auto; \" />\n"
   ]
  },
  {
   "cell_type": "code",
   "execution_count": 1,
   "id": "45f30e3c",
   "metadata": {},
   "outputs": [],
   "source": [
    "import pandas as pd\n",
    "import numpy as np\n",
    "import seaborn as sns\n",
    "import matplotlib.pyplot as plt\n",
    "\n",
    "pd.set_option('display.max_columns', None)\n",
    "pd.set_option('display.width', None)"
   ]
  },
  {
   "cell_type": "markdown",
   "id": "e1306863",
   "metadata": {},
   "source": [
    "\n",
    "<h1 style=\"color: #92B24B;\">Reading the data  </h1>"
   ]
  },
  {
   "cell_type": "code",
   "execution_count": 2,
   "id": "93a4ffe5",
   "metadata": {},
   "outputs": [],
   "source": [
    "df_train = pd.read_csv('data/train.csv')\n",
    "df_test  = pd.read_csv('data/test.csv')"
   ]
  },
  {
   "cell_type": "code",
   "execution_count": 3,
   "id": "ac5da2fc",
   "metadata": {},
   "outputs": [
    {
     "data": {
      "text/html": [
       "<div>\n",
       "<style scoped>\n",
       "    .dataframe tbody tr th:only-of-type {\n",
       "        vertical-align: middle;\n",
       "    }\n",
       "\n",
       "    .dataframe tbody tr th {\n",
       "        vertical-align: top;\n",
       "    }\n",
       "\n",
       "    .dataframe thead th {\n",
       "        text-align: right;\n",
       "    }\n",
       "</style>\n",
       "<table border=\"1\" class=\"dataframe\">\n",
       "  <thead>\n",
       "    <tr style=\"text-align: right;\">\n",
       "      <th></th>\n",
       "      <th>id</th>\n",
       "      <th>Marital status</th>\n",
       "      <th>Application mode</th>\n",
       "      <th>Application order</th>\n",
       "      <th>Course</th>\n",
       "      <th>Daytime/evening attendance</th>\n",
       "      <th>Previous qualification</th>\n",
       "      <th>Previous qualification (grade)</th>\n",
       "      <th>Nacionality</th>\n",
       "      <th>Mother's qualification</th>\n",
       "      <th>...</th>\n",
       "      <th>Curricular units 2nd sem (credited)</th>\n",
       "      <th>Curricular units 2nd sem (enrolled)</th>\n",
       "      <th>Curricular units 2nd sem (evaluations)</th>\n",
       "      <th>Curricular units 2nd sem (approved)</th>\n",
       "      <th>Curricular units 2nd sem (grade)</th>\n",
       "      <th>Curricular units 2nd sem (without evaluations)</th>\n",
       "      <th>Unemployment rate</th>\n",
       "      <th>Inflation rate</th>\n",
       "      <th>GDP</th>\n",
       "      <th>Target</th>\n",
       "    </tr>\n",
       "  </thead>\n",
       "  <tbody>\n",
       "    <tr>\n",
       "      <th>0</th>\n",
       "      <td>0</td>\n",
       "      <td>1</td>\n",
       "      <td>1</td>\n",
       "      <td>1</td>\n",
       "      <td>9238</td>\n",
       "      <td>1</td>\n",
       "      <td>1</td>\n",
       "      <td>126.0</td>\n",
       "      <td>1</td>\n",
       "      <td>1</td>\n",
       "      <td>...</td>\n",
       "      <td>0</td>\n",
       "      <td>6</td>\n",
       "      <td>7</td>\n",
       "      <td>6</td>\n",
       "      <td>12.428571</td>\n",
       "      <td>0</td>\n",
       "      <td>11.1</td>\n",
       "      <td>0.6</td>\n",
       "      <td>2.02</td>\n",
       "      <td>Graduate</td>\n",
       "    </tr>\n",
       "    <tr>\n",
       "      <th>1</th>\n",
       "      <td>1</td>\n",
       "      <td>1</td>\n",
       "      <td>17</td>\n",
       "      <td>1</td>\n",
       "      <td>9238</td>\n",
       "      <td>1</td>\n",
       "      <td>1</td>\n",
       "      <td>125.0</td>\n",
       "      <td>1</td>\n",
       "      <td>19</td>\n",
       "      <td>...</td>\n",
       "      <td>0</td>\n",
       "      <td>6</td>\n",
       "      <td>9</td>\n",
       "      <td>0</td>\n",
       "      <td>0.000000</td>\n",
       "      <td>0</td>\n",
       "      <td>11.1</td>\n",
       "      <td>0.6</td>\n",
       "      <td>2.02</td>\n",
       "      <td>Dropout</td>\n",
       "    </tr>\n",
       "    <tr>\n",
       "      <th>2</th>\n",
       "      <td>2</td>\n",
       "      <td>1</td>\n",
       "      <td>17</td>\n",
       "      <td>2</td>\n",
       "      <td>9254</td>\n",
       "      <td>1</td>\n",
       "      <td>1</td>\n",
       "      <td>137.0</td>\n",
       "      <td>1</td>\n",
       "      <td>3</td>\n",
       "      <td>...</td>\n",
       "      <td>0</td>\n",
       "      <td>6</td>\n",
       "      <td>0</td>\n",
       "      <td>0</td>\n",
       "      <td>0.000000</td>\n",
       "      <td>0</td>\n",
       "      <td>16.2</td>\n",
       "      <td>0.3</td>\n",
       "      <td>-0.92</td>\n",
       "      <td>Dropout</td>\n",
       "    </tr>\n",
       "    <tr>\n",
       "      <th>3</th>\n",
       "      <td>3</td>\n",
       "      <td>1</td>\n",
       "      <td>1</td>\n",
       "      <td>3</td>\n",
       "      <td>9500</td>\n",
       "      <td>1</td>\n",
       "      <td>1</td>\n",
       "      <td>131.0</td>\n",
       "      <td>1</td>\n",
       "      <td>19</td>\n",
       "      <td>...</td>\n",
       "      <td>0</td>\n",
       "      <td>8</td>\n",
       "      <td>11</td>\n",
       "      <td>7</td>\n",
       "      <td>12.820000</td>\n",
       "      <td>0</td>\n",
       "      <td>11.1</td>\n",
       "      <td>0.6</td>\n",
       "      <td>2.02</td>\n",
       "      <td>Enrolled</td>\n",
       "    </tr>\n",
       "    <tr>\n",
       "      <th>4</th>\n",
       "      <td>4</td>\n",
       "      <td>1</td>\n",
       "      <td>1</td>\n",
       "      <td>2</td>\n",
       "      <td>9500</td>\n",
       "      <td>1</td>\n",
       "      <td>1</td>\n",
       "      <td>132.0</td>\n",
       "      <td>1</td>\n",
       "      <td>19</td>\n",
       "      <td>...</td>\n",
       "      <td>0</td>\n",
       "      <td>7</td>\n",
       "      <td>12</td>\n",
       "      <td>6</td>\n",
       "      <td>12.933333</td>\n",
       "      <td>0</td>\n",
       "      <td>7.6</td>\n",
       "      <td>2.6</td>\n",
       "      <td>0.32</td>\n",
       "      <td>Graduate</td>\n",
       "    </tr>\n",
       "  </tbody>\n",
       "</table>\n",
       "<p>5 rows × 38 columns</p>\n",
       "</div>"
      ],
      "text/plain": [
       "   id  Marital status  Application mode  Application order  Course  \\\n",
       "0   0               1                 1                  1    9238   \n",
       "1   1               1                17                  1    9238   \n",
       "2   2               1                17                  2    9254   \n",
       "3   3               1                 1                  3    9500   \n",
       "4   4               1                 1                  2    9500   \n",
       "\n",
       "   Daytime/evening attendance  Previous qualification  \\\n",
       "0                           1                       1   \n",
       "1                           1                       1   \n",
       "2                           1                       1   \n",
       "3                           1                       1   \n",
       "4                           1                       1   \n",
       "\n",
       "   Previous qualification (grade)  Nacionality  Mother's qualification  ...  \\\n",
       "0                           126.0            1                       1  ...   \n",
       "1                           125.0            1                      19  ...   \n",
       "2                           137.0            1                       3  ...   \n",
       "3                           131.0            1                      19  ...   \n",
       "4                           132.0            1                      19  ...   \n",
       "\n",
       "   Curricular units 2nd sem (credited)  Curricular units 2nd sem (enrolled)  \\\n",
       "0                                    0                                    6   \n",
       "1                                    0                                    6   \n",
       "2                                    0                                    6   \n",
       "3                                    0                                    8   \n",
       "4                                    0                                    7   \n",
       "\n",
       "   Curricular units 2nd sem (evaluations)  \\\n",
       "0                                       7   \n",
       "1                                       9   \n",
       "2                                       0   \n",
       "3                                      11   \n",
       "4                                      12   \n",
       "\n",
       "   Curricular units 2nd sem (approved)  Curricular units 2nd sem (grade)  \\\n",
       "0                                    6                         12.428571   \n",
       "1                                    0                          0.000000   \n",
       "2                                    0                          0.000000   \n",
       "3                                    7                         12.820000   \n",
       "4                                    6                         12.933333   \n",
       "\n",
       "   Curricular units 2nd sem (without evaluations)  Unemployment rate  \\\n",
       "0                                               0               11.1   \n",
       "1                                               0               11.1   \n",
       "2                                               0               16.2   \n",
       "3                                               0               11.1   \n",
       "4                                               0                7.6   \n",
       "\n",
       "   Inflation rate   GDP    Target  \n",
       "0             0.6  2.02  Graduate  \n",
       "1             0.6  2.02   Dropout  \n",
       "2             0.3 -0.92   Dropout  \n",
       "3             0.6  2.02  Enrolled  \n",
       "4             2.6  0.32  Graduate  \n",
       "\n",
       "[5 rows x 38 columns]"
      ]
     },
     "execution_count": 3,
     "metadata": {},
     "output_type": "execute_result"
    }
   ],
   "source": [
    "#Seeing the head of df_train\n",
    "df_train.head()"
   ]
  },
  {
   "cell_type": "code",
   "execution_count": 4,
   "id": "6cd43091",
   "metadata": {},
   "outputs": [
    {
     "data": {
      "text/html": [
       "<div>\n",
       "<style scoped>\n",
       "    .dataframe tbody tr th:only-of-type {\n",
       "        vertical-align: middle;\n",
       "    }\n",
       "\n",
       "    .dataframe tbody tr th {\n",
       "        vertical-align: top;\n",
       "    }\n",
       "\n",
       "    .dataframe thead th {\n",
       "        text-align: right;\n",
       "    }\n",
       "</style>\n",
       "<table border=\"1\" class=\"dataframe\">\n",
       "  <thead>\n",
       "    <tr style=\"text-align: right;\">\n",
       "      <th></th>\n",
       "      <th>id</th>\n",
       "      <th>Marital status</th>\n",
       "      <th>Application mode</th>\n",
       "      <th>Application order</th>\n",
       "      <th>Course</th>\n",
       "      <th>Daytime/evening attendance</th>\n",
       "      <th>Previous qualification</th>\n",
       "      <th>Previous qualification (grade)</th>\n",
       "      <th>Nacionality</th>\n",
       "      <th>Mother's qualification</th>\n",
       "      <th>...</th>\n",
       "      <th>Curricular units 1st sem (without evaluations)</th>\n",
       "      <th>Curricular units 2nd sem (credited)</th>\n",
       "      <th>Curricular units 2nd sem (enrolled)</th>\n",
       "      <th>Curricular units 2nd sem (evaluations)</th>\n",
       "      <th>Curricular units 2nd sem (approved)</th>\n",
       "      <th>Curricular units 2nd sem (grade)</th>\n",
       "      <th>Curricular units 2nd sem (without evaluations)</th>\n",
       "      <th>Unemployment rate</th>\n",
       "      <th>Inflation rate</th>\n",
       "      <th>GDP</th>\n",
       "    </tr>\n",
       "  </thead>\n",
       "  <tbody>\n",
       "    <tr>\n",
       "      <th>0</th>\n",
       "      <td>76518</td>\n",
       "      <td>1</td>\n",
       "      <td>1</td>\n",
       "      <td>1</td>\n",
       "      <td>9500</td>\n",
       "      <td>1</td>\n",
       "      <td>1</td>\n",
       "      <td>141.0</td>\n",
       "      <td>1</td>\n",
       "      <td>3</td>\n",
       "      <td>...</td>\n",
       "      <td>0</td>\n",
       "      <td>0</td>\n",
       "      <td>8</td>\n",
       "      <td>0</td>\n",
       "      <td>0</td>\n",
       "      <td>0.000000</td>\n",
       "      <td>0</td>\n",
       "      <td>13.9</td>\n",
       "      <td>-0.3</td>\n",
       "      <td>0.79</td>\n",
       "    </tr>\n",
       "    <tr>\n",
       "      <th>1</th>\n",
       "      <td>76519</td>\n",
       "      <td>1</td>\n",
       "      <td>1</td>\n",
       "      <td>1</td>\n",
       "      <td>9238</td>\n",
       "      <td>1</td>\n",
       "      <td>1</td>\n",
       "      <td>128.0</td>\n",
       "      <td>1</td>\n",
       "      <td>1</td>\n",
       "      <td>...</td>\n",
       "      <td>0</td>\n",
       "      <td>0</td>\n",
       "      <td>6</td>\n",
       "      <td>6</td>\n",
       "      <td>6</td>\n",
       "      <td>13.500000</td>\n",
       "      <td>0</td>\n",
       "      <td>11.1</td>\n",
       "      <td>0.6</td>\n",
       "      <td>2.02</td>\n",
       "    </tr>\n",
       "    <tr>\n",
       "      <th>2</th>\n",
       "      <td>76520</td>\n",
       "      <td>1</td>\n",
       "      <td>1</td>\n",
       "      <td>1</td>\n",
       "      <td>9238</td>\n",
       "      <td>1</td>\n",
       "      <td>1</td>\n",
       "      <td>118.0</td>\n",
       "      <td>1</td>\n",
       "      <td>1</td>\n",
       "      <td>...</td>\n",
       "      <td>0</td>\n",
       "      <td>0</td>\n",
       "      <td>6</td>\n",
       "      <td>11</td>\n",
       "      <td>5</td>\n",
       "      <td>11.000000</td>\n",
       "      <td>0</td>\n",
       "      <td>15.5</td>\n",
       "      <td>2.8</td>\n",
       "      <td>-4.06</td>\n",
       "    </tr>\n",
       "    <tr>\n",
       "      <th>3</th>\n",
       "      <td>76521</td>\n",
       "      <td>1</td>\n",
       "      <td>44</td>\n",
       "      <td>1</td>\n",
       "      <td>9147</td>\n",
       "      <td>1</td>\n",
       "      <td>39</td>\n",
       "      <td>130.0</td>\n",
       "      <td>1</td>\n",
       "      <td>1</td>\n",
       "      <td>...</td>\n",
       "      <td>0</td>\n",
       "      <td>3</td>\n",
       "      <td>8</td>\n",
       "      <td>14</td>\n",
       "      <td>5</td>\n",
       "      <td>11.000000</td>\n",
       "      <td>0</td>\n",
       "      <td>8.9</td>\n",
       "      <td>1.4</td>\n",
       "      <td>3.51</td>\n",
       "    </tr>\n",
       "    <tr>\n",
       "      <th>4</th>\n",
       "      <td>76522</td>\n",
       "      <td>1</td>\n",
       "      <td>39</td>\n",
       "      <td>1</td>\n",
       "      <td>9670</td>\n",
       "      <td>1</td>\n",
       "      <td>1</td>\n",
       "      <td>110.0</td>\n",
       "      <td>1</td>\n",
       "      <td>1</td>\n",
       "      <td>...</td>\n",
       "      <td>0</td>\n",
       "      <td>0</td>\n",
       "      <td>6</td>\n",
       "      <td>9</td>\n",
       "      <td>4</td>\n",
       "      <td>10.666667</td>\n",
       "      <td>2</td>\n",
       "      <td>7.6</td>\n",
       "      <td>2.6</td>\n",
       "      <td>0.32</td>\n",
       "    </tr>\n",
       "  </tbody>\n",
       "</table>\n",
       "<p>5 rows × 37 columns</p>\n",
       "</div>"
      ],
      "text/plain": [
       "      id  Marital status  Application mode  Application order  Course  \\\n",
       "0  76518               1                 1                  1    9500   \n",
       "1  76519               1                 1                  1    9238   \n",
       "2  76520               1                 1                  1    9238   \n",
       "3  76521               1                44                  1    9147   \n",
       "4  76522               1                39                  1    9670   \n",
       "\n",
       "   Daytime/evening attendance  Previous qualification  \\\n",
       "0                           1                       1   \n",
       "1                           1                       1   \n",
       "2                           1                       1   \n",
       "3                           1                      39   \n",
       "4                           1                       1   \n",
       "\n",
       "   Previous qualification (grade)  Nacionality  Mother's qualification  ...  \\\n",
       "0                           141.0            1                       3  ...   \n",
       "1                           128.0            1                       1  ...   \n",
       "2                           118.0            1                       1  ...   \n",
       "3                           130.0            1                       1  ...   \n",
       "4                           110.0            1                       1  ...   \n",
       "\n",
       "   Curricular units 1st sem (without evaluations)  \\\n",
       "0                                               0   \n",
       "1                                               0   \n",
       "2                                               0   \n",
       "3                                               0   \n",
       "4                                               0   \n",
       "\n",
       "   Curricular units 2nd sem (credited)  Curricular units 2nd sem (enrolled)  \\\n",
       "0                                    0                                    8   \n",
       "1                                    0                                    6   \n",
       "2                                    0                                    6   \n",
       "3                                    3                                    8   \n",
       "4                                    0                                    6   \n",
       "\n",
       "   Curricular units 2nd sem (evaluations)  \\\n",
       "0                                       0   \n",
       "1                                       6   \n",
       "2                                      11   \n",
       "3                                      14   \n",
       "4                                       9   \n",
       "\n",
       "   Curricular units 2nd sem (approved)  Curricular units 2nd sem (grade)  \\\n",
       "0                                    0                          0.000000   \n",
       "1                                    6                         13.500000   \n",
       "2                                    5                         11.000000   \n",
       "3                                    5                         11.000000   \n",
       "4                                    4                         10.666667   \n",
       "\n",
       "   Curricular units 2nd sem (without evaluations)  Unemployment rate  \\\n",
       "0                                               0               13.9   \n",
       "1                                               0               11.1   \n",
       "2                                               0               15.5   \n",
       "3                                               0                8.9   \n",
       "4                                               2                7.6   \n",
       "\n",
       "   Inflation rate   GDP  \n",
       "0            -0.3  0.79  \n",
       "1             0.6  2.02  \n",
       "2             2.8 -4.06  \n",
       "3             1.4  3.51  \n",
       "4             2.6  0.32  \n",
       "\n",
       "[5 rows x 37 columns]"
      ]
     },
     "execution_count": 4,
     "metadata": {},
     "output_type": "execute_result"
    }
   ],
   "source": [
    "#Seeing the head of df_test\n",
    "df_test.head()"
   ]
  },
  {
   "cell_type": "markdown",
   "id": "ba59ca57",
   "metadata": {},
   "source": [
    "\n",
    "<h3 style=\"color: #92B24B;\">Seeing the shape of the data</h3>"
   ]
  },
  {
   "cell_type": "code",
   "execution_count": 5,
   "id": "a4f43a8e",
   "metadata": {},
   "outputs": [
    {
     "name": "stdout",
     "output_type": "stream",
     "text": [
      "The shape of train data is:  (76518, 38)\n",
      "The shape of test data is:  (51012, 37)\n"
     ]
    }
   ],
   "source": [
    "print('The shape of train data is: ', df_train.shape)\n",
    "print('The shape of test data is: ', df_test.shape)"
   ]
  },
  {
   "cell_type": "code",
   "execution_count": 6,
   "id": "de0eb23b",
   "metadata": {},
   "outputs": [
    {
     "data": {
      "text/plain": [
       "Index(['id', 'Marital status', 'Application mode', 'Application order',\n",
       "       'Course', 'Daytime/evening attendance', 'Previous qualification',\n",
       "       'Previous qualification (grade)', 'Nacionality',\n",
       "       'Mother's qualification', 'Father's qualification',\n",
       "       'Mother's occupation', 'Father's occupation', 'Admission grade',\n",
       "       'Displaced', 'Educational special needs', 'Debtor',\n",
       "       'Tuition fees up to date', 'Gender', 'Scholarship holder',\n",
       "       'Age at enrollment', 'International',\n",
       "       'Curricular units 1st sem (credited)',\n",
       "       'Curricular units 1st sem (enrolled)',\n",
       "       'Curricular units 1st sem (evaluations)',\n",
       "       'Curricular units 1st sem (approved)',\n",
       "       'Curricular units 1st sem (grade)',\n",
       "       'Curricular units 1st sem (without evaluations)',\n",
       "       'Curricular units 2nd sem (credited)',\n",
       "       'Curricular units 2nd sem (enrolled)',\n",
       "       'Curricular units 2nd sem (evaluations)',\n",
       "       'Curricular units 2nd sem (approved)',\n",
       "       'Curricular units 2nd sem (grade)',\n",
       "       'Curricular units 2nd sem (without evaluations)', 'Unemployment rate',\n",
       "       'Inflation rate', 'GDP', 'Target'],\n",
       "      dtype='object')"
      ]
     },
     "execution_count": 6,
     "metadata": {},
     "output_type": "execute_result"
    }
   ],
   "source": [
    "#Seeing the columns\n",
    "df_train.columns"
   ]
  },
  {
   "cell_type": "code",
   "execution_count": 7,
   "id": "7fcbb13e",
   "metadata": {},
   "outputs": [
    {
     "name": "stdout",
     "output_type": "stream",
     "text": [
      "<class 'pandas.core.frame.DataFrame'>\n",
      "RangeIndex: 76518 entries, 0 to 76517\n",
      "Data columns (total 38 columns):\n",
      " #   Column                                          Non-Null Count  Dtype  \n",
      "---  ------                                          --------------  -----  \n",
      " 0   id                                              76518 non-null  int64  \n",
      " 1   Marital status                                  76518 non-null  int64  \n",
      " 2   Application mode                                76518 non-null  int64  \n",
      " 3   Application order                               76518 non-null  int64  \n",
      " 4   Course                                          76518 non-null  int64  \n",
      " 5   Daytime/evening attendance                      76518 non-null  int64  \n",
      " 6   Previous qualification                          76518 non-null  int64  \n",
      " 7   Previous qualification (grade)                  76518 non-null  float64\n",
      " 8   Nacionality                                     76518 non-null  int64  \n",
      " 9   Mother's qualification                          76518 non-null  int64  \n",
      " 10  Father's qualification                          76518 non-null  int64  \n",
      " 11  Mother's occupation                             76518 non-null  int64  \n",
      " 12  Father's occupation                             76518 non-null  int64  \n",
      " 13  Admission grade                                 76518 non-null  float64\n",
      " 14  Displaced                                       76518 non-null  int64  \n",
      " 15  Educational special needs                       76518 non-null  int64  \n",
      " 16  Debtor                                          76518 non-null  int64  \n",
      " 17  Tuition fees up to date                         76518 non-null  int64  \n",
      " 18  Gender                                          76518 non-null  int64  \n",
      " 19  Scholarship holder                              76518 non-null  int64  \n",
      " 20  Age at enrollment                               76518 non-null  int64  \n",
      " 21  International                                   76518 non-null  int64  \n",
      " 22  Curricular units 1st sem (credited)             76518 non-null  int64  \n",
      " 23  Curricular units 1st sem (enrolled)             76518 non-null  int64  \n",
      " 24  Curricular units 1st sem (evaluations)          76518 non-null  int64  \n",
      " 25  Curricular units 1st sem (approved)             76518 non-null  int64  \n",
      " 26  Curricular units 1st sem (grade)                76518 non-null  float64\n",
      " 27  Curricular units 1st sem (without evaluations)  76518 non-null  int64  \n",
      " 28  Curricular units 2nd sem (credited)             76518 non-null  int64  \n",
      " 29  Curricular units 2nd sem (enrolled)             76518 non-null  int64  \n",
      " 30  Curricular units 2nd sem (evaluations)          76518 non-null  int64  \n",
      " 31  Curricular units 2nd sem (approved)             76518 non-null  int64  \n",
      " 32  Curricular units 2nd sem (grade)                76518 non-null  float64\n",
      " 33  Curricular units 2nd sem (without evaluations)  76518 non-null  int64  \n",
      " 34  Unemployment rate                               76518 non-null  float64\n",
      " 35  Inflation rate                                  76518 non-null  float64\n",
      " 36  GDP                                             76518 non-null  float64\n",
      " 37  Target                                          76518 non-null  object \n",
      "dtypes: float64(7), int64(30), object(1)\n",
      "memory usage: 22.2+ MB\n"
     ]
    }
   ],
   "source": [
    "#Let's see the info of the data\n",
    "df_train.info()"
   ]
  },
  {
   "cell_type": "code",
   "execution_count": 8,
   "id": "47ca2f8d",
   "metadata": {},
   "outputs": [
    {
     "data": {
      "text/html": [
       "<div>\n",
       "<style scoped>\n",
       "    .dataframe tbody tr th:only-of-type {\n",
       "        vertical-align: middle;\n",
       "    }\n",
       "\n",
       "    .dataframe tbody tr th {\n",
       "        vertical-align: top;\n",
       "    }\n",
       "\n",
       "    .dataframe thead th {\n",
       "        text-align: right;\n",
       "    }\n",
       "</style>\n",
       "<table border=\"1\" class=\"dataframe\">\n",
       "  <thead>\n",
       "    <tr style=\"text-align: right;\">\n",
       "      <th></th>\n",
       "      <th>count</th>\n",
       "      <th>mean</th>\n",
       "      <th>std</th>\n",
       "      <th>min</th>\n",
       "      <th>25%</th>\n",
       "      <th>50%</th>\n",
       "      <th>75%</th>\n",
       "      <th>max</th>\n",
       "    </tr>\n",
       "  </thead>\n",
       "  <tbody>\n",
       "    <tr>\n",
       "      <th>id</th>\n",
       "      <td>76518.0</td>\n",
       "      <td>38258.500000</td>\n",
       "      <td>22088.988286</td>\n",
       "      <td>0.00</td>\n",
       "      <td>19129.250000</td>\n",
       "      <td>38258.500000</td>\n",
       "      <td>57387.750000</td>\n",
       "      <td>76517.000</td>\n",
       "    </tr>\n",
       "    <tr>\n",
       "      <th>Marital status</th>\n",
       "      <td>76518.0</td>\n",
       "      <td>1.111934</td>\n",
       "      <td>0.441669</td>\n",
       "      <td>1.00</td>\n",
       "      <td>1.000000</td>\n",
       "      <td>1.000000</td>\n",
       "      <td>1.000000</td>\n",
       "      <td>6.000</td>\n",
       "    </tr>\n",
       "    <tr>\n",
       "      <th>Application mode</th>\n",
       "      <td>76518.0</td>\n",
       "      <td>16.054419</td>\n",
       "      <td>16.682337</td>\n",
       "      <td>1.00</td>\n",
       "      <td>1.000000</td>\n",
       "      <td>17.000000</td>\n",
       "      <td>39.000000</td>\n",
       "      <td>53.000</td>\n",
       "    </tr>\n",
       "    <tr>\n",
       "      <th>Application order</th>\n",
       "      <td>76518.0</td>\n",
       "      <td>1.644410</td>\n",
       "      <td>1.229645</td>\n",
       "      <td>0.00</td>\n",
       "      <td>1.000000</td>\n",
       "      <td>1.000000</td>\n",
       "      <td>2.000000</td>\n",
       "      <td>9.000</td>\n",
       "    </tr>\n",
       "    <tr>\n",
       "      <th>Course</th>\n",
       "      <td>76518.0</td>\n",
       "      <td>9001.286377</td>\n",
       "      <td>1803.438531</td>\n",
       "      <td>33.00</td>\n",
       "      <td>9119.000000</td>\n",
       "      <td>9254.000000</td>\n",
       "      <td>9670.000000</td>\n",
       "      <td>9991.000</td>\n",
       "    </tr>\n",
       "    <tr>\n",
       "      <th>Daytime/evening attendance</th>\n",
       "      <td>76518.0</td>\n",
       "      <td>0.915314</td>\n",
       "      <td>0.278416</td>\n",
       "      <td>0.00</td>\n",
       "      <td>1.000000</td>\n",
       "      <td>1.000000</td>\n",
       "      <td>1.000000</td>\n",
       "      <td>1.000</td>\n",
       "    </tr>\n",
       "    <tr>\n",
       "      <th>Previous qualification</th>\n",
       "      <td>76518.0</td>\n",
       "      <td>3.658760</td>\n",
       "      <td>8.623774</td>\n",
       "      <td>1.00</td>\n",
       "      <td>1.000000</td>\n",
       "      <td>1.000000</td>\n",
       "      <td>1.000000</td>\n",
       "      <td>43.000</td>\n",
       "    </tr>\n",
       "    <tr>\n",
       "      <th>Previous qualification (grade)</th>\n",
       "      <td>76518.0</td>\n",
       "      <td>132.378766</td>\n",
       "      <td>10.995328</td>\n",
       "      <td>95.00</td>\n",
       "      <td>125.000000</td>\n",
       "      <td>133.100000</td>\n",
       "      <td>140.000000</td>\n",
       "      <td>190.000</td>\n",
       "    </tr>\n",
       "    <tr>\n",
       "      <th>Nacionality</th>\n",
       "      <td>76518.0</td>\n",
       "      <td>1.226600</td>\n",
       "      <td>3.392183</td>\n",
       "      <td>1.00</td>\n",
       "      <td>1.000000</td>\n",
       "      <td>1.000000</td>\n",
       "      <td>1.000000</td>\n",
       "      <td>109.000</td>\n",
       "    </tr>\n",
       "    <tr>\n",
       "      <th>Mother's qualification</th>\n",
       "      <td>76518.0</td>\n",
       "      <td>19.837633</td>\n",
       "      <td>15.399456</td>\n",
       "      <td>1.00</td>\n",
       "      <td>1.000000</td>\n",
       "      <td>19.000000</td>\n",
       "      <td>37.000000</td>\n",
       "      <td>44.000</td>\n",
       "    </tr>\n",
       "    <tr>\n",
       "      <th>Father's qualification</th>\n",
       "      <td>76518.0</td>\n",
       "      <td>23.425076</td>\n",
       "      <td>14.921164</td>\n",
       "      <td>1.00</td>\n",
       "      <td>4.000000</td>\n",
       "      <td>19.000000</td>\n",
       "      <td>37.000000</td>\n",
       "      <td>44.000</td>\n",
       "    </tr>\n",
       "    <tr>\n",
       "      <th>Mother's occupation</th>\n",
       "      <td>76518.0</td>\n",
       "      <td>8.583196</td>\n",
       "      <td>17.471591</td>\n",
       "      <td>0.00</td>\n",
       "      <td>4.000000</td>\n",
       "      <td>7.000000</td>\n",
       "      <td>9.000000</td>\n",
       "      <td>194.000</td>\n",
       "    </tr>\n",
       "    <tr>\n",
       "      <th>Father's occupation</th>\n",
       "      <td>76518.0</td>\n",
       "      <td>8.882172</td>\n",
       "      <td>16.803940</td>\n",
       "      <td>0.00</td>\n",
       "      <td>5.000000</td>\n",
       "      <td>7.000000</td>\n",
       "      <td>9.000000</td>\n",
       "      <td>195.000</td>\n",
       "    </tr>\n",
       "    <tr>\n",
       "      <th>Admission grade</th>\n",
       "      <td>76518.0</td>\n",
       "      <td>125.363971</td>\n",
       "      <td>12.562328</td>\n",
       "      <td>95.00</td>\n",
       "      <td>118.000000</td>\n",
       "      <td>124.600000</td>\n",
       "      <td>132.000000</td>\n",
       "      <td>190.000</td>\n",
       "    </tr>\n",
       "    <tr>\n",
       "      <th>Displaced</th>\n",
       "      <td>76518.0</td>\n",
       "      <td>0.569265</td>\n",
       "      <td>0.495182</td>\n",
       "      <td>0.00</td>\n",
       "      <td>0.000000</td>\n",
       "      <td>1.000000</td>\n",
       "      <td>1.000000</td>\n",
       "      <td>1.000</td>\n",
       "    </tr>\n",
       "    <tr>\n",
       "      <th>Educational special needs</th>\n",
       "      <td>76518.0</td>\n",
       "      <td>0.003738</td>\n",
       "      <td>0.061023</td>\n",
       "      <td>0.00</td>\n",
       "      <td>0.000000</td>\n",
       "      <td>0.000000</td>\n",
       "      <td>0.000000</td>\n",
       "      <td>1.000</td>\n",
       "    </tr>\n",
       "    <tr>\n",
       "      <th>Debtor</th>\n",
       "      <td>76518.0</td>\n",
       "      <td>0.071382</td>\n",
       "      <td>0.257463</td>\n",
       "      <td>0.00</td>\n",
       "      <td>0.000000</td>\n",
       "      <td>0.000000</td>\n",
       "      <td>0.000000</td>\n",
       "      <td>1.000</td>\n",
       "    </tr>\n",
       "    <tr>\n",
       "      <th>Tuition fees up to date</th>\n",
       "      <td>76518.0</td>\n",
       "      <td>0.893646</td>\n",
       "      <td>0.308292</td>\n",
       "      <td>0.00</td>\n",
       "      <td>1.000000</td>\n",
       "      <td>1.000000</td>\n",
       "      <td>1.000000</td>\n",
       "      <td>1.000</td>\n",
       "    </tr>\n",
       "    <tr>\n",
       "      <th>Gender</th>\n",
       "      <td>76518.0</td>\n",
       "      <td>0.315821</td>\n",
       "      <td>0.464845</td>\n",
       "      <td>0.00</td>\n",
       "      <td>0.000000</td>\n",
       "      <td>0.000000</td>\n",
       "      <td>1.000000</td>\n",
       "      <td>1.000</td>\n",
       "    </tr>\n",
       "    <tr>\n",
       "      <th>Scholarship holder</th>\n",
       "      <td>76518.0</td>\n",
       "      <td>0.247393</td>\n",
       "      <td>0.431500</td>\n",
       "      <td>0.00</td>\n",
       "      <td>0.000000</td>\n",
       "      <td>0.000000</td>\n",
       "      <td>0.000000</td>\n",
       "      <td>1.000</td>\n",
       "    </tr>\n",
       "    <tr>\n",
       "      <th>Age at enrollment</th>\n",
       "      <td>76518.0</td>\n",
       "      <td>22.278653</td>\n",
       "      <td>6.889241</td>\n",
       "      <td>17.00</td>\n",
       "      <td>18.000000</td>\n",
       "      <td>19.000000</td>\n",
       "      <td>23.000000</td>\n",
       "      <td>70.000</td>\n",
       "    </tr>\n",
       "    <tr>\n",
       "      <th>International</th>\n",
       "      <td>76518.0</td>\n",
       "      <td>0.006626</td>\n",
       "      <td>0.081130</td>\n",
       "      <td>0.00</td>\n",
       "      <td>0.000000</td>\n",
       "      <td>0.000000</td>\n",
       "      <td>0.000000</td>\n",
       "      <td>1.000</td>\n",
       "    </tr>\n",
       "    <tr>\n",
       "      <th>Curricular units 1st sem (credited)</th>\n",
       "      <td>76518.0</td>\n",
       "      <td>0.188871</td>\n",
       "      <td>1.175296</td>\n",
       "      <td>0.00</td>\n",
       "      <td>0.000000</td>\n",
       "      <td>0.000000</td>\n",
       "      <td>0.000000</td>\n",
       "      <td>20.000</td>\n",
       "    </tr>\n",
       "    <tr>\n",
       "      <th>Curricular units 1st sem (enrolled)</th>\n",
       "      <td>76518.0</td>\n",
       "      <td>5.891516</td>\n",
       "      <td>1.671776</td>\n",
       "      <td>0.00</td>\n",
       "      <td>5.000000</td>\n",
       "      <td>6.000000</td>\n",
       "      <td>6.000000</td>\n",
       "      <td>26.000</td>\n",
       "    </tr>\n",
       "    <tr>\n",
       "      <th>Curricular units 1st sem (evaluations)</th>\n",
       "      <td>76518.0</td>\n",
       "      <td>7.352362</td>\n",
       "      <td>3.508292</td>\n",
       "      <td>0.00</td>\n",
       "      <td>6.000000</td>\n",
       "      <td>7.000000</td>\n",
       "      <td>9.000000</td>\n",
       "      <td>45.000</td>\n",
       "    </tr>\n",
       "    <tr>\n",
       "      <th>Curricular units 1st sem (approved)</th>\n",
       "      <td>76518.0</td>\n",
       "      <td>4.178520</td>\n",
       "      <td>2.687995</td>\n",
       "      <td>0.00</td>\n",
       "      <td>2.000000</td>\n",
       "      <td>5.000000</td>\n",
       "      <td>6.000000</td>\n",
       "      <td>26.000</td>\n",
       "    </tr>\n",
       "    <tr>\n",
       "      <th>Curricular units 1st sem (grade)</th>\n",
       "      <td>76518.0</td>\n",
       "      <td>9.995862</td>\n",
       "      <td>5.264224</td>\n",
       "      <td>0.00</td>\n",
       "      <td>10.666667</td>\n",
       "      <td>12.166667</td>\n",
       "      <td>13.314286</td>\n",
       "      <td>18.875</td>\n",
       "    </tr>\n",
       "    <tr>\n",
       "      <th>Curricular units 1st sem (without evaluations)</th>\n",
       "      <td>76518.0</td>\n",
       "      <td>0.057960</td>\n",
       "      <td>0.408490</td>\n",
       "      <td>0.00</td>\n",
       "      <td>0.000000</td>\n",
       "      <td>0.000000</td>\n",
       "      <td>0.000000</td>\n",
       "      <td>12.000</td>\n",
       "    </tr>\n",
       "    <tr>\n",
       "      <th>Curricular units 2nd sem (credited)</th>\n",
       "      <td>76518.0</td>\n",
       "      <td>0.137053</td>\n",
       "      <td>0.933830</td>\n",
       "      <td>0.00</td>\n",
       "      <td>0.000000</td>\n",
       "      <td>0.000000</td>\n",
       "      <td>0.000000</td>\n",
       "      <td>19.000</td>\n",
       "    </tr>\n",
       "    <tr>\n",
       "      <th>Curricular units 2nd sem (enrolled)</th>\n",
       "      <td>76518.0</td>\n",
       "      <td>5.933414</td>\n",
       "      <td>1.627182</td>\n",
       "      <td>0.00</td>\n",
       "      <td>5.000000</td>\n",
       "      <td>6.000000</td>\n",
       "      <td>6.000000</td>\n",
       "      <td>23.000</td>\n",
       "    </tr>\n",
       "    <tr>\n",
       "      <th>Curricular units 2nd sem (evaluations)</th>\n",
       "      <td>76518.0</td>\n",
       "      <td>7.234468</td>\n",
       "      <td>3.503040</td>\n",
       "      <td>0.00</td>\n",
       "      <td>6.000000</td>\n",
       "      <td>7.000000</td>\n",
       "      <td>9.000000</td>\n",
       "      <td>33.000</td>\n",
       "    </tr>\n",
       "    <tr>\n",
       "      <th>Curricular units 2nd sem (approved)</th>\n",
       "      <td>76518.0</td>\n",
       "      <td>4.007201</td>\n",
       "      <td>2.772956</td>\n",
       "      <td>0.00</td>\n",
       "      <td>1.000000</td>\n",
       "      <td>5.000000</td>\n",
       "      <td>6.000000</td>\n",
       "      <td>20.000</td>\n",
       "    </tr>\n",
       "    <tr>\n",
       "      <th>Curricular units 2nd sem (grade)</th>\n",
       "      <td>76518.0</td>\n",
       "      <td>9.626085</td>\n",
       "      <td>5.546035</td>\n",
       "      <td>0.00</td>\n",
       "      <td>10.000000</td>\n",
       "      <td>12.142857</td>\n",
       "      <td>13.244048</td>\n",
       "      <td>18.000</td>\n",
       "    </tr>\n",
       "    <tr>\n",
       "      <th>Curricular units 2nd sem (without evaluations)</th>\n",
       "      <td>76518.0</td>\n",
       "      <td>0.062443</td>\n",
       "      <td>0.462107</td>\n",
       "      <td>0.00</td>\n",
       "      <td>0.000000</td>\n",
       "      <td>0.000000</td>\n",
       "      <td>0.000000</td>\n",
       "      <td>12.000</td>\n",
       "    </tr>\n",
       "    <tr>\n",
       "      <th>Unemployment rate</th>\n",
       "      <td>76518.0</td>\n",
       "      <td>11.520340</td>\n",
       "      <td>2.653375</td>\n",
       "      <td>7.60</td>\n",
       "      <td>9.400000</td>\n",
       "      <td>11.100000</td>\n",
       "      <td>12.700000</td>\n",
       "      <td>16.200</td>\n",
       "    </tr>\n",
       "    <tr>\n",
       "      <th>Inflation rate</th>\n",
       "      <td>76518.0</td>\n",
       "      <td>1.228218</td>\n",
       "      <td>1.398816</td>\n",
       "      <td>-0.80</td>\n",
       "      <td>0.300000</td>\n",
       "      <td>1.400000</td>\n",
       "      <td>2.600000</td>\n",
       "      <td>3.700</td>\n",
       "    </tr>\n",
       "    <tr>\n",
       "      <th>GDP</th>\n",
       "      <td>76518.0</td>\n",
       "      <td>-0.080921</td>\n",
       "      <td>2.251382</td>\n",
       "      <td>-4.06</td>\n",
       "      <td>-1.700000</td>\n",
       "      <td>0.320000</td>\n",
       "      <td>1.790000</td>\n",
       "      <td>3.510</td>\n",
       "    </tr>\n",
       "  </tbody>\n",
       "</table>\n",
       "</div>"
      ],
      "text/plain": [
       "                                                  count          mean  \\\n",
       "id                                              76518.0  38258.500000   \n",
       "Marital status                                  76518.0      1.111934   \n",
       "Application mode                                76518.0     16.054419   \n",
       "Application order                               76518.0      1.644410   \n",
       "Course                                          76518.0   9001.286377   \n",
       "Daytime/evening attendance                      76518.0      0.915314   \n",
       "Previous qualification                          76518.0      3.658760   \n",
       "Previous qualification (grade)                  76518.0    132.378766   \n",
       "Nacionality                                     76518.0      1.226600   \n",
       "Mother's qualification                          76518.0     19.837633   \n",
       "Father's qualification                          76518.0     23.425076   \n",
       "Mother's occupation                             76518.0      8.583196   \n",
       "Father's occupation                             76518.0      8.882172   \n",
       "Admission grade                                 76518.0    125.363971   \n",
       "Displaced                                       76518.0      0.569265   \n",
       "Educational special needs                       76518.0      0.003738   \n",
       "Debtor                                          76518.0      0.071382   \n",
       "Tuition fees up to date                         76518.0      0.893646   \n",
       "Gender                                          76518.0      0.315821   \n",
       "Scholarship holder                              76518.0      0.247393   \n",
       "Age at enrollment                               76518.0     22.278653   \n",
       "International                                   76518.0      0.006626   \n",
       "Curricular units 1st sem (credited)             76518.0      0.188871   \n",
       "Curricular units 1st sem (enrolled)             76518.0      5.891516   \n",
       "Curricular units 1st sem (evaluations)          76518.0      7.352362   \n",
       "Curricular units 1st sem (approved)             76518.0      4.178520   \n",
       "Curricular units 1st sem (grade)                76518.0      9.995862   \n",
       "Curricular units 1st sem (without evaluations)  76518.0      0.057960   \n",
       "Curricular units 2nd sem (credited)             76518.0      0.137053   \n",
       "Curricular units 2nd sem (enrolled)             76518.0      5.933414   \n",
       "Curricular units 2nd sem (evaluations)          76518.0      7.234468   \n",
       "Curricular units 2nd sem (approved)             76518.0      4.007201   \n",
       "Curricular units 2nd sem (grade)                76518.0      9.626085   \n",
       "Curricular units 2nd sem (without evaluations)  76518.0      0.062443   \n",
       "Unemployment rate                               76518.0     11.520340   \n",
       "Inflation rate                                  76518.0      1.228218   \n",
       "GDP                                             76518.0     -0.080921   \n",
       "\n",
       "                                                         std    min  \\\n",
       "id                                              22088.988286   0.00   \n",
       "Marital status                                      0.441669   1.00   \n",
       "Application mode                                   16.682337   1.00   \n",
       "Application order                                   1.229645   0.00   \n",
       "Course                                           1803.438531  33.00   \n",
       "Daytime/evening attendance                          0.278416   0.00   \n",
       "Previous qualification                              8.623774   1.00   \n",
       "Previous qualification (grade)                     10.995328  95.00   \n",
       "Nacionality                                         3.392183   1.00   \n",
       "Mother's qualification                             15.399456   1.00   \n",
       "Father's qualification                             14.921164   1.00   \n",
       "Mother's occupation                                17.471591   0.00   \n",
       "Father's occupation                                16.803940   0.00   \n",
       "Admission grade                                    12.562328  95.00   \n",
       "Displaced                                           0.495182   0.00   \n",
       "Educational special needs                           0.061023   0.00   \n",
       "Debtor                                              0.257463   0.00   \n",
       "Tuition fees up to date                             0.308292   0.00   \n",
       "Gender                                              0.464845   0.00   \n",
       "Scholarship holder                                  0.431500   0.00   \n",
       "Age at enrollment                                   6.889241  17.00   \n",
       "International                                       0.081130   0.00   \n",
       "Curricular units 1st sem (credited)                 1.175296   0.00   \n",
       "Curricular units 1st sem (enrolled)                 1.671776   0.00   \n",
       "Curricular units 1st sem (evaluations)              3.508292   0.00   \n",
       "Curricular units 1st sem (approved)                 2.687995   0.00   \n",
       "Curricular units 1st sem (grade)                    5.264224   0.00   \n",
       "Curricular units 1st sem (without evaluations)      0.408490   0.00   \n",
       "Curricular units 2nd sem (credited)                 0.933830   0.00   \n",
       "Curricular units 2nd sem (enrolled)                 1.627182   0.00   \n",
       "Curricular units 2nd sem (evaluations)              3.503040   0.00   \n",
       "Curricular units 2nd sem (approved)                 2.772956   0.00   \n",
       "Curricular units 2nd sem (grade)                    5.546035   0.00   \n",
       "Curricular units 2nd sem (without evaluations)      0.462107   0.00   \n",
       "Unemployment rate                                   2.653375   7.60   \n",
       "Inflation rate                                      1.398816  -0.80   \n",
       "GDP                                                 2.251382  -4.06   \n",
       "\n",
       "                                                         25%           50%  \\\n",
       "id                                              19129.250000  38258.500000   \n",
       "Marital status                                      1.000000      1.000000   \n",
       "Application mode                                    1.000000     17.000000   \n",
       "Application order                                   1.000000      1.000000   \n",
       "Course                                           9119.000000   9254.000000   \n",
       "Daytime/evening attendance                          1.000000      1.000000   \n",
       "Previous qualification                              1.000000      1.000000   \n",
       "Previous qualification (grade)                    125.000000    133.100000   \n",
       "Nacionality                                         1.000000      1.000000   \n",
       "Mother's qualification                              1.000000     19.000000   \n",
       "Father's qualification                              4.000000     19.000000   \n",
       "Mother's occupation                                 4.000000      7.000000   \n",
       "Father's occupation                                 5.000000      7.000000   \n",
       "Admission grade                                   118.000000    124.600000   \n",
       "Displaced                                           0.000000      1.000000   \n",
       "Educational special needs                           0.000000      0.000000   \n",
       "Debtor                                              0.000000      0.000000   \n",
       "Tuition fees up to date                             1.000000      1.000000   \n",
       "Gender                                              0.000000      0.000000   \n",
       "Scholarship holder                                  0.000000      0.000000   \n",
       "Age at enrollment                                  18.000000     19.000000   \n",
       "International                                       0.000000      0.000000   \n",
       "Curricular units 1st sem (credited)                 0.000000      0.000000   \n",
       "Curricular units 1st sem (enrolled)                 5.000000      6.000000   \n",
       "Curricular units 1st sem (evaluations)              6.000000      7.000000   \n",
       "Curricular units 1st sem (approved)                 2.000000      5.000000   \n",
       "Curricular units 1st sem (grade)                   10.666667     12.166667   \n",
       "Curricular units 1st sem (without evaluations)      0.000000      0.000000   \n",
       "Curricular units 2nd sem (credited)                 0.000000      0.000000   \n",
       "Curricular units 2nd sem (enrolled)                 5.000000      6.000000   \n",
       "Curricular units 2nd sem (evaluations)              6.000000      7.000000   \n",
       "Curricular units 2nd sem (approved)                 1.000000      5.000000   \n",
       "Curricular units 2nd sem (grade)                   10.000000     12.142857   \n",
       "Curricular units 2nd sem (without evaluations)      0.000000      0.000000   \n",
       "Unemployment rate                                   9.400000     11.100000   \n",
       "Inflation rate                                      0.300000      1.400000   \n",
       "GDP                                                -1.700000      0.320000   \n",
       "\n",
       "                                                         75%        max  \n",
       "id                                              57387.750000  76517.000  \n",
       "Marital status                                      1.000000      6.000  \n",
       "Application mode                                   39.000000     53.000  \n",
       "Application order                                   2.000000      9.000  \n",
       "Course                                           9670.000000   9991.000  \n",
       "Daytime/evening attendance                          1.000000      1.000  \n",
       "Previous qualification                              1.000000     43.000  \n",
       "Previous qualification (grade)                    140.000000    190.000  \n",
       "Nacionality                                         1.000000    109.000  \n",
       "Mother's qualification                             37.000000     44.000  \n",
       "Father's qualification                             37.000000     44.000  \n",
       "Mother's occupation                                 9.000000    194.000  \n",
       "Father's occupation                                 9.000000    195.000  \n",
       "Admission grade                                   132.000000    190.000  \n",
       "Displaced                                           1.000000      1.000  \n",
       "Educational special needs                           0.000000      1.000  \n",
       "Debtor                                              0.000000      1.000  \n",
       "Tuition fees up to date                             1.000000      1.000  \n",
       "Gender                                              1.000000      1.000  \n",
       "Scholarship holder                                  0.000000      1.000  \n",
       "Age at enrollment                                  23.000000     70.000  \n",
       "International                                       0.000000      1.000  \n",
       "Curricular units 1st sem (credited)                 0.000000     20.000  \n",
       "Curricular units 1st sem (enrolled)                 6.000000     26.000  \n",
       "Curricular units 1st sem (evaluations)              9.000000     45.000  \n",
       "Curricular units 1st sem (approved)                 6.000000     26.000  \n",
       "Curricular units 1st sem (grade)                   13.314286     18.875  \n",
       "Curricular units 1st sem (without evaluations)      0.000000     12.000  \n",
       "Curricular units 2nd sem (credited)                 0.000000     19.000  \n",
       "Curricular units 2nd sem (enrolled)                 6.000000     23.000  \n",
       "Curricular units 2nd sem (evaluations)              9.000000     33.000  \n",
       "Curricular units 2nd sem (approved)                 6.000000     20.000  \n",
       "Curricular units 2nd sem (grade)                   13.244048     18.000  \n",
       "Curricular units 2nd sem (without evaluations)      0.000000     12.000  \n",
       "Unemployment rate                                  12.700000     16.200  \n",
       "Inflation rate                                      2.600000      3.700  \n",
       "GDP                                                 1.790000      3.510  "
      ]
     },
     "execution_count": 8,
     "metadata": {},
     "output_type": "execute_result"
    }
   ],
   "source": [
    "#Let's see the describtion of the data\n",
    "df_train.describe().T"
   ]
  },
  {
   "cell_type": "markdown",
   "id": "ee3bd484",
   "metadata": {},
   "source": [
    "\n",
    "<h3 style=\"color: #92B24B;\">Checking for null data </h3>"
   ]
  },
  {
   "cell_type": "code",
   "execution_count": 9,
   "id": "085d2f5a",
   "metadata": {},
   "outputs": [
    {
     "data": {
      "text/plain": [
       "id                                                0\n",
       "Marital status                                    0\n",
       "Application mode                                  0\n",
       "Application order                                 0\n",
       "Course                                            0\n",
       "Daytime/evening attendance                        0\n",
       "Previous qualification                            0\n",
       "Previous qualification (grade)                    0\n",
       "Nacionality                                       0\n",
       "Mother's qualification                            0\n",
       "Father's qualification                            0\n",
       "Mother's occupation                               0\n",
       "Father's occupation                               0\n",
       "Admission grade                                   0\n",
       "Displaced                                         0\n",
       "Educational special needs                         0\n",
       "Debtor                                            0\n",
       "Tuition fees up to date                           0\n",
       "Gender                                            0\n",
       "Scholarship holder                                0\n",
       "Age at enrollment                                 0\n",
       "International                                     0\n",
       "Curricular units 1st sem (credited)               0\n",
       "Curricular units 1st sem (enrolled)               0\n",
       "Curricular units 1st sem (evaluations)            0\n",
       "Curricular units 1st sem (approved)               0\n",
       "Curricular units 1st sem (grade)                  0\n",
       "Curricular units 1st sem (without evaluations)    0\n",
       "Curricular units 2nd sem (credited)               0\n",
       "Curricular units 2nd sem (enrolled)               0\n",
       "Curricular units 2nd sem (evaluations)            0\n",
       "Curricular units 2nd sem (approved)               0\n",
       "Curricular units 2nd sem (grade)                  0\n",
       "Curricular units 2nd sem (without evaluations)    0\n",
       "Unemployment rate                                 0\n",
       "Inflation rate                                    0\n",
       "GDP                                               0\n",
       "Target                                            0\n",
       "dtype: int64"
      ]
     },
     "execution_count": 9,
     "metadata": {},
     "output_type": "execute_result"
    }
   ],
   "source": [
    "df_train.isna().sum()\n",
    "#As we can see, we do not have any null data"
   ]
  },
  {
   "cell_type": "markdown",
   "id": "b7b12228",
   "metadata": {},
   "source": [
    "\n",
    "<h3 style=\"color: #92B24B;\">Checking for duplicated data</h3>"
   ]
  },
  {
   "cell_type": "code",
   "execution_count": 10,
   "id": "629112e4",
   "metadata": {},
   "outputs": [
    {
     "data": {
      "text/plain": [
       "0"
      ]
     },
     "execution_count": 10,
     "metadata": {},
     "output_type": "execute_result"
    }
   ],
   "source": [
    "df_train.duplicated().sum()\n",
    "#As we can see, we do not have any duplicated data "
   ]
  },
  {
   "cell_type": "markdown",
   "id": "9635368f",
   "metadata": {},
   "source": [
    "\n",
    "\n",
    "<h2 style=\"color: #92B24B;\">EDA </h2>"
   ]
  },
  {
   "cell_type": "markdown",
   "id": "e7f6c7a9",
   "metadata": {},
   "source": [
    "\n",
    "\n",
    "<h3 style=\"color: #92B24B;\">Marital status</h3>"
   ]
  },
  {
   "cell_type": "markdown",
   "id": "0c316d42",
   "metadata": {},
   "source": [
    "<ul>\n",
    "    <li style=\"color: #0E66AD; font-weight: bold;\">\n",
    "        <span style=\"color:#D75E0F; font-size: 18px; font-weight: bold;\">1-</span>\n",
    "        single\n",
    "    </li>\n",
    "    <li style=\"color: #0E66AD; font-weight: bold;\">\n",
    "        <span style=\"color:#D75E0F; font-size: 18px; font-weight: bold;\">2-</span>\n",
    "        married\n",
    "    </li>\n",
    "    <li style=\"color: #0E66AD; font-weight: bold;\">\n",
    "        <span style=\"color:#D75E0F; font-size: 18px; font-weight: bold;\">3-</span>\n",
    "        widower\n",
    "    </li>\n",
    "    <li style=\"color: #0E66AD; font-weight: bold;\">\n",
    "        <span style=\"color:#D75E0F; font-size: 18px; font-weight: bold;\">4-</span>\n",
    "        divorced\n",
    "    </li>\n",
    "    <li style=\"color: #0E66AD; font-weight: bold;\">\n",
    "        <span style=\"color:#D75E0F; font-size: 18px; font-weight: bold;\">5-</span>\n",
    "        facto union\n",
    "    </li>\n",
    "    <li style=\"color: #0E66AD; font-weight: bold;\">\n",
    "        <span style=\"color:#D75E0F; font-size: 18px; font-weight: bold;\">6-</span>\n",
    "        legally separated\n",
    "    </li>\n",
    "</ul>"
   ]
  },
  {
   "cell_type": "code",
   "execution_count": 11,
   "id": "505257f7",
   "metadata": {},
   "outputs": [
    {
     "data": {
      "text/plain": [
       "Marital status\n",
       "1    70189\n",
       "2     5296\n",
       "4      866\n",
       "5      116\n",
       "6       35\n",
       "3       16\n",
       "Name: count, dtype: int64"
      ]
     },
     "execution_count": 11,
     "metadata": {},
     "output_type": "execute_result"
    }
   ],
   "source": [
    "df_train['Marital status'].value_counts()"
   ]
  },
  {
   "cell_type": "markdown",
   "id": "d23cc04a",
   "metadata": {},
   "source": [
    "<hr/>"
   ]
  },
  {
   "cell_type": "markdown",
   "id": "8930a63f",
   "metadata": {},
   "source": [
    "\n",
    "\n",
    "<h3 style=\"color: #92B24B;\">Application mode</h3>"
   ]
  },
  {
   "cell_type": "markdown",
   "id": "99ea9344",
   "metadata": {},
   "source": [
    "<ul>\n",
    "    <li style=\"color: #0E66AD; font-weight: bold;\">\n",
    "        <span style=\"color:#D75E0F; font-size: 18px; font-weight: bold;\">1 -</span>\n",
    "        1st phase - general contingent\n",
    "    </li>\n",
    "    <li style=\"color: #0E66AD; font-weight: bold;\">\n",
    "        <span style=\"color:#D75E0F; font-size: 18px; font-weight: bold;\">2 -</span>\n",
    "        Ordinance No. 612/93\n",
    "    </li>\n",
    "    <li style=\"color: #0E66AD; font-weight: bold;\">\n",
    "        <span style=\"color:#D75E0F; font-size: 18px; font-weight: bold;\">5 -</span>\n",
    "        1st phase - special contingent (Azores Island)\n",
    "    </li>\n",
    "    <li style=\"color: #0E66AD; font-weight: bold;\">\n",
    "        <span style=\"color:#D75E0F; font-size: 18px; font-weight: bold;\">7 -</span>\n",
    "        Holders of other higher courses\n",
    "    </li>\n",
    "    <li style=\"color: #0E66AD; font-weight: bold;\">\n",
    "        <span style=\"color:#D75E0F; font-size: 18px; font-weight: bold;\">10 -</span>\n",
    "        Ordinance No. 854-B/99\n",
    "    </li>\n",
    "    <li style=\"color: #0E66AD; font-weight: bold;\">\n",
    "        <span style=\"color:#D75E0F; font-size: 18px; font-weight: bold;\">15 -</span>\n",
    "        International student (bachelor)\n",
    "    </li>\n",
    "    <li style=\"color: #0E66AD; font-weight: bold;\">\n",
    "        <span style=\"color:#D75E0F; font-size: 18px; font-weight: bold;\">16 -</span>\n",
    "        1st phase - special contingent (Madeira Island)\n",
    "    </li>\n",
    "    <li style=\"color: #0E66AD; font-weight: bold;\">\n",
    "        <span style=\"color:#D75E0F; font-size: 18px; font-weight: bold;\">17 -</span>\n",
    "        2nd phase - general contingent\n",
    "    </li>\n",
    "    <li style=\"color: #0E66AD; font-weight: bold;\">\n",
    "        <span style=\"color:#D75E0F; font-size: 18px; font-weight: bold;\">18 -</span>\n",
    "        3rd phase - general contingent\n",
    "    </li>\n",
    "    <li style=\"color: #0E66AD; font-weight: bold;\">\n",
    "        <span style=\"color:#D75E0F; font-size: 18px; font-weight: bold;\">26 -</span>\n",
    "        Ordinance No. 533-A/99, item b2) (Different Plan)\n",
    "    </li>\n",
    "    <li style=\"color: #0E66AD; font-weight: bold;\">\n",
    "        <span style=\"color:#D75E0F; font-size: 18px; font-weight: bold;\">27 -</span>\n",
    "        Ordinance No. 533-A/99, item b3 (Other Institution)\n",
    "    </li>\n",
    "    <li style=\"color: #0E66AD; font-weight: bold;\">\n",
    "        <span style=\"color:#D75E0F; font-size: 18px; font-weight: bold;\">39 -</span>\n",
    "        Over 23 years old\n",
    "    </li>\n",
    "    <li style=\"color: #0E66AD; font-weight: bold;\">\n",
    "        <span style=\"color:#D75E0F; font-size: 18px; font-weight: bold;\">42 -</span>\n",
    "        Transfer\n",
    "    </li>\n",
    "    <li style=\"color: #0E66AD; font-weight: bold;\">\n",
    "        <span style=\"color:#D75E0F; font-size: 18px; font-weight: bold;\">43 -</span>\n",
    "        Change of course\n",
    "    </li>\n",
    "    <li style=\"color: #0E66AD; font-weight: bold;\">\n",
    "        <span style=\"color:#D75E0F; font-size: 18px; font-weight: bold;\">44 -</span>\n",
    "        Technological specialization diploma holders\n",
    "    </li>\n",
    "    <li style=\"color: #0E66AD; font-weight: bold;\">\n",
    "        <span style=\"color:#D75E0F; font-size: 18px; font-weight: bold;\">51 -</span>\n",
    "        Change of institution/course\n",
    "    </li>\n",
    "    <li style=\"color: #0E66AD; font-weight: bold;\">\n",
    "        <span style=\"color:#D75E0F; font-size: 18px; font-weight: bold;\">53 -</span>\n",
    "        Short cycle diploma holders\n",
    "    </li>\n",
    "    <li style=\"color: #0E66AD; font-weight: bold;\">\n",
    "        <span style=\"color:#D75E0F; font-size: 18px; font-weight: bold;\">57 -</span>\n",
    "        Change of institution/course (International)\n",
    "    </li>\n",
    "</ul>"
   ]
  },
  {
   "cell_type": "code",
   "execution_count": 12,
   "id": "8aa5295f",
   "metadata": {
    "scrolled": true
   },
   "outputs": [
    {
     "data": {
      "text/plain": [
       "Application mode\n",
       "1     35227\n",
       "17    16523\n",
       "39    14519\n",
       "44     3012\n",
       "43     2671\n",
       "7      1498\n",
       "18     1256\n",
       "42      551\n",
       "51      442\n",
       "16      265\n",
       "53      225\n",
       "15      183\n",
       "5        87\n",
       "10       43\n",
       "2         8\n",
       "27        2\n",
       "12        1\n",
       "26        1\n",
       "4         1\n",
       "35        1\n",
       "9         1\n",
       "3         1\n",
       "Name: count, dtype: int64"
      ]
     },
     "execution_count": 12,
     "metadata": {},
     "output_type": "execute_result"
    }
   ],
   "source": [
    "df_train['Application mode'].value_counts()"
   ]
  },
  {
   "cell_type": "markdown",
   "id": "ec46df81",
   "metadata": {},
   "source": [
    "<hr/>"
   ]
  },
  {
   "cell_type": "markdown",
   "id": "b4aebe6b",
   "metadata": {},
   "source": [
    "\n",
    "<h3 style=\"color: #92B24B;\">Application order </h3>"
   ]
  },
  {
   "cell_type": "markdown",
   "id": "2585b323",
   "metadata": {},
   "source": [
    "<ul>\n",
    "    <li>Application order (between 0 - first choice; and 9 last choice)</li>\n",
    "</ul>\n"
   ]
  },
  {
   "cell_type": "code",
   "execution_count": 13,
   "id": "5d771b81",
   "metadata": {},
   "outputs": [
    {
     "data": {
      "text/plain": [
       "Application order\n",
       "1    54381\n",
       "2     8875\n",
       "3     5364\n",
       "4     3822\n",
       "5     2125\n",
       "6     1947\n",
       "0        3\n",
       "9        1\n",
       "Name: count, dtype: int64"
      ]
     },
     "execution_count": 13,
     "metadata": {},
     "output_type": "execute_result"
    }
   ],
   "source": [
    "df_train['Application order'].value_counts()"
   ]
  },
  {
   "cell_type": "markdown",
   "id": "2bd4d703",
   "metadata": {},
   "source": [
    "<hr/>"
   ]
  },
  {
   "cell_type": "markdown",
   "id": "7e31dc24",
   "metadata": {},
   "source": [
    "\n",
    "<h3 style=\"color: #92B24B;\">Course</h3>"
   ]
  },
  {
   "cell_type": "markdown",
   "id": "af63d5c5",
   "metadata": {},
   "source": [
    "<ul> <li style=\"color: #0E66AD; font-weight: bold;\"> <span style=\"color:#D75E0F; font-size: 18px; font-weight: bold;\">33 -</span> Biofuel Production Technologies </li> <li style=\"color: #0E66AD; font-weight: bold;\"> <span style=\"color:#D75E0F; font-size: 18px; font-weight: bold;\">171 -</span> Animation and Multimedia Design </li> <li style=\"color: #0E66AD; font-weight: bold;\"> <span style=\"color:#D75E0F; font-size: 18px; font-weight: bold;\">8014 -</span> Social Service (evening attendance) </li> <li style=\"color: #0E66AD; font-weight: bold;\"> <span style=\"color:#D75E0F; font-size: 18px; font-weight: bold;\">9003 -</span> Agronomy </li> <li style=\"color: #0E66AD; font-weight: bold;\"> <span style=\"color:#D75E0F; font-size: 18px; font-weight: bold;\">9070 -</span> Communication Design </li> <li style=\"color: #0E66AD; font-weight: bold;\"> <span style=\"color:#D75E0F; font-size: 18px; font-weight: bold;\">9085 -</span> Veterinary Nursing </li> <li style=\"color: #0E66AD; font-weight: bold;\"> <span style=\"color:#D75E0F; font-size: 18px; font-weight: bold;\">9119 -</span> Informatics Engineering </li> <li style=\"color: #0E66AD; font-weight: bold;\"> <span style=\"color:#D75E0F; font-size: 18px; font-weight: bold;\">9130 -</span> Equinculture </li> <li style=\"color: #0E66AD; font-weight: bold;\"> <span style=\"color:#D75E0F; font-size: 18px; font-weight: bold;\">9147 -</span> Management </li> <li style=\"color: #0E66AD; font-weight: bold;\"> <span style=\"color:#D75E0F; font-size: 18px; font-weight: bold;\">9238 -</span> Social Service </li> <li style=\"color: #0E66AD; font-weight: bold;\"> <span style=\"color:#D75E0F; font-size: 18px; font-weight: bold;\">9254 -</span> Tourism </li> <li style=\"color: #0E66AD; font-weight: bold;\"> <span style=\"color:#D75E0F; font-size: 18px; font-weight: bold;\">9500 -</span> Nursing </li> <li style=\"color: #0E66AD; font-weight: bold;\"> <span style=\"color:#D75E0F; font-size: 18px; font-weight: bold;\">9556 -</span> Oral Hygiene </li> <li style=\"color: #0E66AD; font-weight: bold;\"> <span style=\"color:#D75E0F; font-size: 18px; font-weight: bold;\">9670 -</span> Advertising and Marketing Management </li> <li style=\"color: #0E66AD; font-weight: bold;\"> <span style=\"color:#D75E0F; font-size: 18px; font-weight: bold;\">9773 -</span> Journalism and Communication </li> <li style=\"color: #0E66AD; font-weight: bold;\"> <span style=\"color:#D75E0F; font-size: 18px; font-weight: bold;\">9853 -</span> Basic Education </li> <li style=\"color: #0E66AD; font-weight: bold;\"> <span style=\"color:#D75E0F; font-size: 18px; font-weight: bold;\">9991 -</span> Management (evening attendance) </li> </ul>"
   ]
  },
  {
   "cell_type": "code",
   "execution_count": 15,
   "id": "e08b1051",
   "metadata": {
    "scrolled": false
   },
   "outputs": [
    {
     "data": {
      "text/plain": [
       "Course\n",
       "9500    12074\n",
       "9773     8214\n",
       "9238     7935\n",
       "9147     7741\n",
       "9254     5425\n",
       "9085     5373\n",
       "9670     4760\n",
       "9991     4057\n",
       "9003     3733\n",
       "9070     3281\n",
       "9853     3198\n",
       "9119     3004\n",
       "171      2859\n",
       "8014     2438\n",
       "9130     1606\n",
       "9556      746\n",
       "33         72\n",
       "979         1\n",
       "39          1\n",
       "Name: count, dtype: int64"
      ]
     },
     "execution_count": 15,
     "metadata": {},
     "output_type": "execute_result"
    }
   ],
   "source": [
    "df_train['Course'].value_counts()"
   ]
  },
  {
   "cell_type": "code",
   "execution_count": 17,
   "id": "c3a56ea3",
   "metadata": {},
   "outputs": [
    {
     "data": {
      "text/plain": [
       "<Axes: xlabel='Course'>"
      ]
     },
     "execution_count": 17,
     "metadata": {},
     "output_type": "execute_result"
    },
    {
     "data": {
      "image/png": "[encoded data removed]",
      "text/plain": [
       "<Figure size 1400x600 with 1 Axes>"
      ]
     },
     "metadata": {},
     "output_type": "display_data"
    }
   ],
   "source": [
    "df_train['Course'].value_counts().plot(kind='bar', figsize=(14, 6), color='orange')"
   ]
  },
  {
   "cell_type": "markdown",
   "id": "448b4572",
   "metadata": {},
   "source": [
    "<hr/>"
   ]
  },
  {
   "cell_type": "markdown",
   "id": "c54bc779",
   "metadata": {},
   "source": [
    "\n",
    "\n",
    "<h3 style=\"color: #92B24B;\">Daytime/evening attendance</h3>"
   ]
  },
  {
   "cell_type": "markdown",
   "id": "0d68ba52",
   "metadata": {},
   "source": [
    "<ul>\n",
    "  <li style=\"color: #0E66AD; font-weight: bold;\">\n",
    "    <span style=\"color:#D75E0F; font-size: 18px; font-weight: bold;\">1 -</span> Daytime\n",
    "  </li>\n",
    "  <li style=\"color: #0E66AD; font-weight: bold;\">\n",
    "    <span style=\"color:#D75E0F; font-size: 18px; font-weight: bold;\">0 -</span> Evening\n",
    "  </li>\n",
    "</ul>"
   ]
  },
  {
   "cell_type": "code",
   "execution_count": 19,
   "id": "5abbe397",
   "metadata": {
    "scrolled": true
   },
   "outputs": [
    {
     "data": {
      "text/plain": [
       "Daytime/evening attendance\n",
       "1    70038\n",
       "0     6480\n",
       "Name: count, dtype: int64"
      ]
     },
     "execution_count": 19,
     "metadata": {},
     "output_type": "execute_result"
    }
   ],
   "source": [
    "df_train['Daytime/evening attendance'].value_counts()"
   ]
  },
  {
   "cell_type": "code",
   "execution_count": 20,
   "id": "b810647e",
   "metadata": {},
   "outputs": [
    {
     "data": {
      "text/plain": [
       "<Axes: ylabel='count'>"
      ]
     },
     "execution_count": 20,
     "metadata": {},
     "output_type": "execute_result"
    },
    {
     "data": {
      "image/png": "[encoded data removed]",
      "text/plain": [
       "<Figure size 1400x600 with 1 Axes>"
      ]
     },
     "metadata": {},
     "output_type": "display_data"
    }
   ],
   "source": [
    "df_train['Daytime/evening attendance'].value_counts().plot(kind='pie', figsize=(14, 6))"
   ]
  },
  {
   "cell_type": "markdown",
   "id": "f1066d22",
   "metadata": {},
   "source": [
    "<hr/>"
   ]
  },
  {
   "cell_type": "markdown",
   "id": "2fc3e568",
   "metadata": {},
   "source": [
    "\n",
    "<h3 style=\"color: #92B24B;\">Previous qualification</h3>"
   ]
  },
  {
   "cell_type": "markdown",
   "id": "79613310",
   "metadata": {},
   "source": [
    "<ul> <li style=\"color: #0E66AD; font-weight: bold;\"> <span style=\"color:#D75E0F; font-size: 18px; font-weight: bold;\">1 -</span> Secondary education </li> <li style=\"color: #0E66AD; font-weight: bold;\"> <span style=\"color:#D75E0F; font-size: 18px; font-weight: bold;\">2 -</span> Higher education - bachelor's degree </li> <li style=\"color: #0E66AD; font-weight: bold;\"> <span style=\"color:#D75E0F; font-size: 18px; font-weight: bold;\">3 -</span> Higher education - degree </li> <li style=\"color: #0E66AD; font-weight: bold;\"> <span style=\"color:#D75E0F; font-size: 18px; font-weight: bold;\">4 -</span> Higher education - master's </li> <li style=\"color: #0E66AD; font-weight: bold;\"> <span style=\"color:#D75E0F; font-size: 18px; font-weight: bold;\">5 -</span> Higher education - doctorate </li> <li style=\"color: #0E66AD; font-weight: bold;\"> <span style=\"color:#D75E0F; font-size: 18px; font-weight: bold;\">6 -</span> Frequency of higher education </li> <li style=\"color: #0E66AD; font-weight: bold;\"> <span style=\"color:#D75E0F; font-size: 18px; font-weight: bold;\">9 -</span> 12th year of schooling - not completed </li> <li style=\"color: #0E66AD; font-weight: bold;\"> <span style=\"color:#D75E0F; font-size: 18px; font-weight: bold;\">10 -</span> 11th year of schooling - not completed </li> <li style=\"color: #0E66AD; font-weight: bold;\"> <span style=\"color:#D75E0F; font-size: 18px; font-weight: bold;\">12 -</span> Other - 11th year of schooling </li> <li style=\"color: #0E66AD; font-weight: bold;\"> <span style=\"color:#D75E0F; font-size: 18px; font-weight: bold;\">14 -</span> 10th year of schooling </li> <li style=\"color: #0E66AD; font-weight: bold;\"> <span style=\"color:#D75E0F; font-size: 18px; font-weight: bold;\">15 -</span> 10th year of schooling - not completed </li> <li style=\"color: #0E66AD; font-weight: bold;\"> <span style=\"color:#D75E0F; font-size: 18px; font-weight: bold;\">19 -</span> Basic education 3rd cycle (9th/10th/11th year) or equiv. </li> <li style=\"color: #0E66AD; font-weight: bold;\"> <span style=\"color:#D75E0F; font-size: 18px; font-weight: bold;\">38 -</span> Basic education 2nd cycle (6th/7th/8th year) or equiv. </li> <li style=\"color: #0E66AD; font-weight: bold;\"> <span style=\"color:#D75E0F; font-size: 18px; font-weight: bold;\">39 -</span> Technological specialization course </li> <li style=\"color: #0E66AD; font-weight: bold;\"> <span style=\"color:#D75E0F; font-size: 18px; font-weight: bold;\">40 -</span> Higher education - degree (1st cycle) </li> <li style=\"color: #0E66AD; font-weight: bold;\"> <span style=\"color:#D75E0F; font-size: 18px; font-weight: bold;\">42 -</span> Professional higher technical course </li> <li style=\"color: #0E66AD; font-weight: bold;\"> <span style=\"color:#D75E0F; font-size: 18px; font-weight: bold;\">43 -</span> Higher education - master (2nd cycle) </li> </ul>"
   ]
  },
  {
   "cell_type": "markdown",
   "id": "d49213d5",
   "metadata": {},
   "source": [
    "<hr/>"
   ]
  },
  {
   "cell_type": "markdown",
   "id": "3d6a4367",
   "metadata": {},
   "source": [
    "\n",
    "\n",
    "<h3 style=\"color: #92B24B;\">Previous qualification (grade)</h3>"
   ]
  },
  {
   "cell_type": "markdown",
   "id": "8ec2d685",
   "metadata": {},
   "source": [
    "\n",
    "<li style=\"color: #0E66AD; font-weight: bold;\">Grade of previous qualification (between 0 and 200)</li>"
   ]
  },
  {
   "cell_type": "markdown",
   "id": "04d52618",
   "metadata": {},
   "source": [
    "<hr/>"
   ]
  },
  {
   "cell_type": "markdown",
   "id": "536ddc6a",
   "metadata": {},
   "source": [
    "<h3 style=\"color: #92B24B;\">Nacionality</h3>"
   ]
  },
  {
   "cell_type": "markdown",
   "id": "bcc2d870",
   "metadata": {},
   "source": [
    "<ul> <li style=\"color: #0E66AD; font-weight: bold;\"> <span style=\"color:#D75E0F; font-size: 18px; font-weight: bold;\">1 -</span> Portuguese </li> <li style=\"color: #0E66AD; font-weight: bold;\"> <span style=\"color:#D75E0F; font-size: 18px; font-weight: bold;\">2 -</span> German </li> <li style=\"color: #0E66AD; font-weight: bold;\"> <span style=\"color:#D75E0F; font-size: 18px; font-weight: bold;\">6 -</span> Spanish </li> <li style=\"color: #0E66AD; font-weight: bold;\"> <span style=\"color:#D75E0F; font-size: 18px; font-weight: bold;\">11 -</span> Italian </li> <li style=\"color: #0E66AD; font-weight: bold;\"> <span style=\"color:#D75E0F; font-size: 18px; font-weight: bold;\">13 -</span> Dutch </li> <li style=\"color: #0E66AD; font-weight: bold;\"> <span style=\"color:#D75E0F; font-size: 18px; font-weight: bold;\">14 -</span> English </li> <li style=\"color: #0E66AD; font-weight: bold;\"> <span style=\"color:#D75E0F; font-size: 18px; font-weight: bold;\">17 -</span> Lithuanian </li> <li style=\"color: #0E66AD; font-weight: bold;\"> <span style=\"color:#D75E0F; font-size: 18px; font-weight: bold;\">21 -</span> Angolan </li> <li style=\"color: #0E66AD; font-weight: bold;\"> <span style=\"color:#D75E0F; font-size: 18px; font-weight: bold;\">22 -</span> Cape Verdean </li> <li style=\"color: #0E66AD; font-weight: bold;\"> <span style=\"color:#D75E0F; font-size: 18px; font-weight: bold;\">24 -</span> Guinean </li> <li style=\"color: #0E66AD; font-weight: bold;\"> <span style=\"color:#D75E0F; font-size: 18px; font-weight: bold;\">25 -</span> Mozambican </li> <li style=\"color: #0E66AD; font-weight: bold;\"> <span style=\"color:#D75E0F; font-size: 18px; font-weight: bold;\">26 -</span> Santomean </li> <li style=\"color: #0E66AD; font-weight: bold;\"> <span style=\"color:#D75E0F; font-size: 18px; font-weight: bold;\">32 -</span> Turkish </li> <li style=\"color: #0E66AD; font-weight: bold;\"> <span style=\"color:#D75E0F; font-size: 18px; font-weight: bold;\">41 -</span> Brazilian </li> <li style=\"color: #0E66AD; font-weight: bold;\"> <span style=\"color:#D75E0F; font-size: 18px; font-weight: bold;\">62 -</span> Romanian </li> <li style=\"color: #0E66AD; font-weight: bold;\"> <span style=\"color:#D75E0F; font-size: 18px; font-weight: bold;\">100 -</span> Moldova (Republic of) </li> <li style=\"color: #0E66AD; font-weight: bold;\"> <span style=\"color:#D75E0F; font-size: 18px; font-weight: bold;\">101 -</span> Mexican </li> <li style=\"color: #0E66AD; font-weight: bold;\"> <span style=\"color:#D75E0F; font-size: 18px; font-weight: bold;\">103 -</span> Ukrainian </li> <li style=\"color: #0E66AD; font-weight: bold;\"> <span style=\"color:#D75E0F; font-size: 18px; font-weight: bold;\">105 -</span> Russian </li> <li style=\"color: #0E66AD; font-weight: bold;\"> <span style=\"color:#D75E0F; font-size: 18px; font-weight: bold;\">108 -</span> Cuban </li> <li style=\"color: #0E66AD; font-weight: bold;\"> <span style=\"color:#D75E0F; font-size: 18px; font-weight: bold;\">109 -</span> Colombian </li> </ul>"
   ]
  },
  {
   "cell_type": "markdown",
   "id": "df4ef32a",
   "metadata": {},
   "source": [
    "<hr/>"
   ]
  },
  {
   "cell_type": "markdown",
   "id": "c36bdc24",
   "metadata": {},
   "source": [
    "<h3 style=\"color: #92B24B;\">Mother's qualification</h3>"
   ]
  },
  {
   "cell_type": "markdown",
   "id": "21c1e01a",
   "metadata": {},
   "source": [
    "<ul> \n",
    "    <li style=\"color: #0E66AD; font-weight: bold;\"> <span style=\"color:#D75E0F; font-size: 18px; font-weight: bold;\">1 -</span> Secondary Education - 12th Year of Schooling or Eq. </li> \n",
    "    <li style=\"color: #0E66AD; font-weight: bold;\"> <span style=\"color:#D75E0F; font-size: 18px; font-weight: bold;\">2 -</span> Higher Education - Bachelor's Degree </li> <li style=\"color: #0E66AD; font-weight: bold;\"> <span style=\"color:#D75E0F; font-size: 18px; font-weight: bold;\">3 -</span> Higher Education - Degree </li> <li style=\"color: #0E66AD; font-weight: bold;\"> <span style=\"color:#D75E0F; font-size: 18px; font-weight: bold;\">4 -</span> Higher Education - Master's </li> \n",
    "    <li style=\"color: #0E66AD; font-weight: bold;\"> <span style=\"color:#D75E0F; font-size: 18px; font-weight: bold;\">5 -</span> Higher Education - Doctorate </li> <li style=\"color: #0E66AD; font-weight: bold;\"> <span style=\"color:#D75E0F; font-size: 18px; font-weight: bold;\">6 -</span> Frequency of Higher Education </li> <li style=\"color: #0E66AD; font-weight: bold;\"> <span style=\"color:#D75E0F; font-size: 18px; font-weight: bold;\">9 -</span> 12th Year of Schooling - Not Completed </li> <li style=\"color: #0E66AD; font-weight: bold;\"> <span style=\"color:#D75E0F; font-size: 18px; font-weight: bold;\">10 -</span> 11th Year of Schooling - Not Completed </li> <li style=\"color: #0E66AD; font-weight: bold;\"> <span style=\"color:#D75E0F; font-size: 18px; font-weight: bold;\">11 -</span> 7th Year (Old) </li> <li style=\"color: #0E66AD; font-weight: bold;\"> <span style=\"color:#D75E0F; font-size: 18px; font-weight: bold;\">12 -</span> Other - 11th Year of Schooling </li> <li style=\"color: #0E66AD; font-weight: bold;\"> <span style=\"color:#D75E0F; font-size: 18px; font-weight: bold;\">14 -</span> 10th Year of Schooling </li> <li style=\"color: #0E66AD; font-weight: bold;\"> <span style=\"color:#D75E0F; font-size: 18px; font-weight: bold;\">18 -</span> General commerce course </li> <li style=\"color: #0E66AD; font-weight: bold;\"> <span style=\"color:#D75E0F; font-size: 18px; font-weight: bold;\">19 -</span> Basic Education 3rd Cycle (9th/10th/11th Year) or Equiv. </li> <li style=\"color: #0E66AD; font-weight: bold;\"> <span style=\"color:#D75E0F; font-size: 18px; font-weight: bold;\">22 -</span> Technical-professional course </li> <li style=\"color: #0E66AD; font-weight: bold;\"> <span style=\"color:#D75E0F; font-size: 18px; font-weight: bold;\">26 -</span> 7th year of schooling </li> <li style=\"color: #0E66AD; font-weight: bold;\"> <span style=\"color:#D75E0F; font-size: 18px; font-weight: bold;\">27 -</span> 2nd cycle of the general high school course </li> <li style=\"color: #0E66AD; font-weight: bold;\"> <span style=\"color:#D75E0F; font-size: 18px; font-weight: bold;\">29 -</span> 9th Year of Schooling - Not Completed </li> <li style=\"color: #0E66AD; font-weight: bold;\"> <span style=\"color:#D75E0F; font-size: 18px; font-weight: bold;\">30 -</span> 8th year of schooling </li> <li style=\"color: #0E66AD; font-weight: bold;\"> <span style=\"color:#D75E0F; font-size: 18px; font-weight: bold;\">34 -</span> Unknown </li> <li style=\"color: #0E66AD; font-weight: bold;\"> <span style=\"color:#D75E0F; font-size: 18px; font-weight: bold;\">35 -</span> Can't read or write </li> <li style=\"color: #0E66AD; font-weight: bold;\"> <span style=\"color:#D75E0F; font-size: 18px; font-weight: bold;\">36 -</span> Can read without having a 4th year of schooling </li> <li style=\"color: #0E66AD; font-weight: bold;\"> <span style=\"color:#D75E0F; font-size: 18px; font-weight: bold;\">37 -</span> Basic education 1st cycle (4th/5th year) or equiv. </li> <li style=\"color: #0E66AD; font-weight: bold;\"> <span style=\"color:#D75E0F; font-size: 18px; font-weight: bold;\">38 -</span> Basic Education 2nd Cycle (6th/7th/8th Year) or Equiv. </li> <li style=\"color: #0E66AD; font-weight: bold;\"> <span style=\"color:#D75E0F; font-size: 18px; font-weight: bold;\">39 -</span> Technological specialization course </li> <li style=\"color: #0E66AD; font-weight: bold;\"> <span style=\"color:#D75E0F; font-size: 18px; font-weight: bold;\">40 -</span> Higher education - degree (1st cycle) </li> <li style=\"color: #0E66AD; font-weight: bold;\"> <span style=\"color:#D75E0F; font-size: 18px; font-weight: bold;\">41 -</span> Specialized higher studies course </li> <li style=\"color: #0E66AD; font-weight: bold;\"> <span style=\"color:#D75E0F; font-size: 18px; font-weight: bold;\">42 -</span> Professional higher technical course </li> <li style=\"color: #0E66AD; font-weight: bold;\"> <span style=\"color:#D75E0F; font-size: 18px; font-weight: bold;\">43 -</span> Higher Education - Master (2nd cycle) </li> <li style=\"color: #0E66AD; font-weight: bold;\"> <span style=\"color:#D75E0F; font-size: 18px; font-weight: bold;\">44 -</span> Higher Education - Doctorate (3rd cycle)\n",
    "</ul>"
   ]
  },
  {
   "cell_type": "markdown",
   "id": "979ec941",
   "metadata": {},
   "source": [
    "<hr/>"
   ]
  },
  {
   "cell_type": "markdown",
   "id": "f0f4dade",
   "metadata": {},
   "source": [
    "<h3 style=\"color: #92B24B;\">Father's qualification</h3>"
   ]
  },
  {
   "cell_type": "markdown",
   "id": "a55e8baa",
   "metadata": {},
   "source": [
    "<ul> \n",
    "    <li style=\"color: #0E66AD; font-weight: bold;\"> <span style=\"color:#D75E0F; font-size: 18px; font-weight: bold;\">1 -</span> Secondary Education - 12th Year of Schooling or Eq. </li> \n",
    "    <li style=\"color: #0E66AD; font-weight: bold;\"> <span style=\"color:#D75E0F; font-size: 18px; font-weight: bold;\">2 -</span> Higher Education - Bachelor's Degree </li> \n",
    "    <li style=\"color: #0E66AD; font-weight: bold;\"> <span style=\"color:#D75E0F; font-size: 18px; font-weight: bold;\">3 -</span> Higher Education - Degree </li> <li style=\"color: #0E66AD; font-weight: bold;\"> <span style=\"color:#D75E0F; font-size: 18px; font-weight: bold;\">4 -</span> Higher Education - Master's </li> \n",
    "    <li style=\"color: #0E66AD; font-weight: bold;\"> <span style=\"color:#D75E0F; font-size: 18px; font-weight: bold;\">5 -</span> Higher Education - Doctorate </li> \n",
    "    <li style=\"color: #0E66AD; font-weight: bold;\"> <span style=\"color:#D75E0F; font-size: 18px; font-weight: bold;\">6 -</span> Frequency of Higher Education </li> \n",
    "    <li style=\"color: #0E66AD; font-weight: bold;\"> <span style=\"color:#D75E0F; font-size: 18px; font-weight: bold;\">9 -</span> 12th Year of Schooling - Not Completed </li> \n",
    "    <li style=\"color: #0E66AD; font-weight: bold;\"> <span style=\"color:#D75E0F; font-size: 18px; font-weight: bold;\">10 -</span> 11th Year of Schooling - Not Completed </li> \n",
    "    <li style=\"color: #0E66AD; font-weight: bold;\"> <span style=\"color:#D75E0F; font-size: 18px; font-weight: bold;\">11 -</span> 7th Year (Old) </li> <li style=\"color: #0E66AD; font-weight: bold;\"> <span style=\"color:#D75E0F; font-size: 18px; font-weight: bold;\">12 -</span> Other - 11th Year of Schooling </li> \n",
    "    <li style=\"color: #0E66AD; font-weight: bold;\"> <span style=\"color:#D75E0F; font-size: 18px; font-weight: bold;\">14 -</span> 10th Year of Schooling </li> <li style=\"color: #0E66AD; font-weight: bold;\"> <span style=\"color:#D75E0F; font-size: 18px; font-weight: bold;\">18 -</span> General commerce course </li> \n",
    "    <li style=\"color: #0E66AD; font-weight: bold;\"> <span style=\"color:#D75E0F; font-size: 18px; font-weight: bold;\">19 -</span> Basic Education 3rd Cycle (9th/10th/11th Year) or Equiv. </li> \n",
    "    <li style=\"color: #0E66AD; font-weight: bold;\"> <span style=\"color:#D75E0F; font-size: 18px; font-weight: bold;\">22 -</span> Technical-professional course </li> <li style=\"color: #0E66AD; font-weight: bold;\"> <span style=\"color:#D75E0F; font-size: 18px; font-weight: bold;\">26 -</span> 7th year of schooling </li> \n",
    "    <li style=\"color: #0E66AD; font-weight: bold;\"> <span style=\"color:#D75E0F; font-size: 18px; font-weight: bold;\">27 -</span> 2nd cycle of the general high school course </li> \n",
    "    <li style=\"color: #0E66AD; font-weight: bold;\"> <span style=\"color:#D75E0F; font-size: 18px; font-weight: bold;\">29 -</span> 9th Year of Schooling - Not Completed </li> <li style=\"color: #0E66AD; font-weight: bold;\"> <span style=\"color:#D75E0F; font-size: 18px; font-weight: bold;\">30 -</span> 8th year of schooling </li> \n",
    "    <li style=\"color: #0E66AD; font-weight: bold;\"> <span style=\"color:#D75E0F; font-size: 18px; font-weight: bold;\">34 -</span> Unknown </li> <li style=\"color: #0E66AD; font-weight: bold;\"> <span style=\"color:#D75E0F; font-size: 18px; font-weight: bold;\">35 -</span> Can't read or write </li> \n",
    "    <li style=\"color: #0E66AD; font-weight: bold;\"> <span style=\"color:#D75E0F; font-size: 18px; font-weight: bold;\">36 -</span> Can read without having a 4th year of schooling </li> \n",
    "    <li style=\"color: #0E66AD; font-weight: bold;\"> <span style=\"color:#D75E0F; font-size: 18px; font-weight: bold;\">37 -</span> Basic education 1st cycle (4th/5th year) or equiv. </li> \n",
    "    <li style=\"color: #0E66AD; font-weight: bold;\"> <span style=\"color:#D75E0F; font-size: 18px; font-weight: bold;\">38 -</span> Basic Education 2nd Cycle (6th/7th/8th Year) or Equiv. </li> \n",
    "    <li style=\"color: #0E66AD; font-weight: bold;\"> <span style=\"color:#D75E0F; font-size: 18px; font-weight: bold;\">39 -</span> Technological specialization course </li> \n",
    "    <li style=\"color: #0E66AD; font-weight: bold;\"> <span style=\"color:#D75E0F; font-size: 18px; font-weight: bold;\">40 -</span> Higher education - degree (1st cycle) </li> \n",
    "    <li style=\"color: #0E66AD; font-weight: bold;\"> <span style=\"color:#D75E0F; font-size: 18px; font-weight: bold;\">41 -</span> Specialized higher studies course </li> \n",
    "    <li style=\"color: #0E66AD; font-weight: bold;\"> <span style=\"color:#D75E0F; font-size: 18px; font-weight: bold;\">42 -</span> Professional higher technical course </li> \n",
    "    <li style=\"color: #0E66AD; font-weight: bold;\"> <span style=\"color:#D75E0F; font-size: 18px; font-weight: bold;\">43 -</span> Higher Education - Master (2nd cycle) </li> \n",
    "    <li style=\"color: #0E66AD; font-weight: bold;\"> <span style=\"color:#D75E0F; font-size: 18px; font-weight: bold;\">44 -</span> Higher Education - Doctorate (3rd cycle) \n",
    "</ul>"
   ]
  },
  {
   "cell_type": "markdown",
   "id": "31dabc0d",
   "metadata": {},
   "source": [
    "<hr/>"
   ]
  },
  {
   "cell_type": "markdown",
   "id": "ae5907e0",
   "metadata": {},
   "source": [
    "<h3 style=\"color: #92B24B;\">Mother's occupation</h3>"
   ]
  },
  {
   "cell_type": "markdown",
   "id": "f654b7f2",
   "metadata": {},
   "source": [
    "<ul> \n",
    "<li style=\"color: #0E66AD; font-weight: bold;\"> <span style=\"color:#D75E0F; font-size: 18px; font-weight: bold;\">0 -</span> Student </li> \n",
    "<li style=\"color: #0E66AD; font-weight: bold;\"> <span style=\"color:#D75E0F; font-size: 18px; font-weight: bold;\">1 -</span> Representatives of the Legislative Power and Executive Bodies, Directors, Directors and Executive Managers </li> \n",
    "<li style=\"color: #0E66AD; font-weight: bold;\"> <span style=\"color:#D75E0F; font-size: 18px; font-weight: bold;\">2 -</span> Specialists in Intellectual and Scientific Activities </li> \n",
    "<li style=\"color: #0E66AD; font-weight: bold;\"> <span style=\"color:#D75E0F; font-size: 18px; font-weight: bold;\">3 -</span> Intermediate Level Technicians and Professions </li> \n",
    "<li style=\"color: #0E66AD; font-weight: bold;\"> <span style=\"color:#D75E0F; font-size: 18px; font-weight: bold;\">4 -</span> Administrative staff </li> \n",
    "<li style=\"color: #0E66AD; font-weight: bold;\"> <span style=\"color:#D75E0F; font-size: 18px; font-weight: bold;\">5 -</span> Personal Services, Security and Safety Workers and Sellers </li> \n",
    "<li style=\"color: #0E66AD; font-weight: bold;\"> <span style=\"color:#D75E0F; font-size: 18px; font-weight: bold;\">6 -</span> Farmers and Skilled Workers in Agriculture, Fisheries and Forestry </li> \n",
    "<li style=\"color: #0E66AD; font-weight: bold;\"> <span style=\"color:#D75E0F; font-size: 18px; font-weight: bold;\">7 -</span> Skilled Workers in Industry, Construction and Craftsmen </li> \n",
    "<li style=\"color: #0E66AD; font-weight: bold;\"> <span style=\"color:#D75E0F; font-size: 18px; font-weight: bold;\">8 -</span> Installation and Machine Operators and Assembly Workers </li> \n",
    "<li style=\"color: #0E66AD; font-weight: bold;\"> <span style=\"color:#D75E0F; font-size: 18px; font-weight: bold;\">9 -</span> Unskilled Workers </li> <li style=\"color: #0E66AD; font-weight: bold;\"> <span style=\"color:#D75E0F; font-size: 18px; font-weight: bold;\">10 -</span> Armed Forces Professions </li> \n",
    "<li style=\"color: #0E66AD; font-weight: bold;\"> <span style=\"color:#D75E0F; font-size: 18px; font-weight: bold;\">90 -</span> Other Situation </li> <li style=\"color: #0E66AD; font-weight: bold;\"> <span style=\"color:#D75E0F; font-size: 18px; font-weight: bold;\">99 -</span> (blank) </li> \n",
    "<li style=\"color: #0E66AD; font-weight: bold;\"> <span style=\"color:#D75E0F; font-size: 18px; font-weight: bold;\">122 -</span> Health professionals </li> <li style=\"color: #0E66AD; font-weight: bold;\"> <span style=\"color:#D75E0F; font-size: 18px; font-weight: bold;\">123 -</span> teachers </li> \n",
    "<li style=\"color: #0E66AD; font-weight: bold;\"> <span style=\"color:#D75E0F; font-size: 18px; font-weight: bold;\">125 -</span> Specialists in information and communication technologies (ICT) </li> <li style=\"color: #0E66AD; font-weight: bold;\"> <span style=\"color:#D75E0F; font-size: 18px; font-weight: bold;\">131 -</span> Intermediate level science and engineering technicians and professions </li> \n",
    "<li style=\"color: #0E66AD; font-weight: bold;\"> <span style=\"color:#D75E0F; font-size: 18px; font-weight: bold;\">132 -</span> Technicians and professionals, of intermediate level of health </li> <li style=\"color: #0E66AD; font-weight: bold;\"> <span style=\"color:#D75E0F; font-size: 18px; font-weight: bold;\">134 -</span> Intermediate level technicians from legal, social, sports, cultural and similar services </li> \n",
    "<li style=\"color: #0E66AD; font-weight: bold;\"> <span style=\"color:#D75E0F; font-size: 18px; font-weight: bold;\">141 -</span> Office workers, secretaries in general and data processing operators </li> <li style=\"color: #0E66AD; font-weight: bold;\"> <span style=\"color:#D75E0F; font-size: 18px; font-weight: bold;\">143 -</span> Data, accounting, statistical, financial services and registry-related operators </li> \n",
    "<li style=\"color: #0E66AD; font-weight: bold;\"> <span style=\"color:#D75E0F; font-size: 18px; font-weight: bold;\">144 -</span> Other administrative support staff </li> <li style=\"color: #0E66AD; font-weight: bold;\"> <span style=\"color:#D75E0F; font-size: 18px; font-weight: bold;\">151 -</span> personal service workers </li> \n",
    "<li style=\"color: #0E66AD; font-weight: bold;\"> <span style=\"color:#D75E0F; font-size: 18px; font-weight: bold;\">152 -</span> sellers </li> <li style=\"color: #0E66AD; font-weight: bold;\"> <span style=\"color:#D75E0F; font-size: 18px; font-weight: bold;\">153 -</span> Personal care workers and the like </li> \n",
    "<li style=\"color: #0E66AD; font-weight: bold;\"> <span style=\"color:#D75E0F; font-size: 18px; font-weight: bold;\">171 -</span> Skilled construction workers and the like, except electricians </li> <li style=\"color: #0E66AD; font-weight: bold;\"> <span style=\"color:#D75E0F; font-size: 18px; font-weight: bold;\">173 -</span> Skilled workers in printing, precision instrument manufacturing, jewelers, artisans and the like </li> \n",
    "<li style=\"color: #0E66AD; font-weight: bold;\"> <span style=\"color:#D75E0F; font-size: 18px; font-weight: bold;\">175 -</span> Workers in food processing, woodworking, clothing and other industries and crafts </li> \n",
    "<li style=\"color: #0E66AD; font-weight: bold;\"> <span style=\"color:#D75E0F; font-size: 18px; font-weight: bold;\">191 -</span> cleaning workers </li> \n",
    "<li style=\"color: #0E66AD; font-weight: bold;\"> <span style=\"color:#D75E0F; font-size: 18px; font-weight: bold;\">192 -</span> Unskilled workers in agriculture, animal production, fisheries and forestry </li> \n",
    "<li style=\"color: #0E66AD; font-weight: bold;\"> <span style=\"color:#D75E0F; font-size: 18px; font-weight: bold;\">193 -</span> Unskilled workers in extractive industry, construction, manufacturing and transport </li> \n",
    "<li style=\"color: #0E66AD; font-weight: bold;\"> <span style=\"color:#D75E0F; font-size: 18px; font-weight: bold;\">194 -</span> Meal preparation assistants </li> \n",
    "\n",
    "</ul>"
   ]
  },
  {
   "cell_type": "markdown",
   "id": "d07721ed",
   "metadata": {},
   "source": [
    "<hr/>"
   ]
  },
  {
   "cell_type": "markdown",
   "id": "212828af",
   "metadata": {},
   "source": [
    "<h3 style=\"color: #92B24B;\">Father's occupation</h3>"
   ]
  },
  {
   "cell_type": "markdown",
   "id": "0f02f849",
   "metadata": {},
   "source": [
    "<ul> <li>0 - Student</li> <li>1 - Representatives of the Legislative Power and Executive Bodies, Directors, Directors and Executive Managers</li> <li>2 - Specialists in Intellectual and Scientific Activities</li> <li>3 - Intermediate Level Technicians and Professions</li> <li>4 - Administrative staff</li> <li>5 - Personal Services, Security and Safety Workers and Sellers</li> <li>6 - Farmers and Skilled Workers in Agriculture, Fisheries and Forestry</li> <li>7 - Skilled Workers in Industry, Construction and Craftsmen</li> <li>8 - Installation and Machine Operators and Assembly Workers</li> <li>9 - Unskilled Workers</li> <li>10 - Armed Forces Professions</li> <li>90 - Other Situation</li> <li>99 - (blank)</li> <li>101 - Armed Forces Officers</li> <li>102 - Armed Forces Sergeants</li> <li>103 - Other Armed Forces personnel</li> <li>112 - Directors of administrative and commercial services</li> <li>114 - Hotel, catering, trade and other services directors</li> <li>121 - Specialists in the physical sciences, mathematics, engineering and related techniques</li> <li>122 - Health professionals</li> <li>123 - teachers</li> <li>124 - Specialists in finance, accounting, administrative organization, public and commercial relations</li> <li>131 - Intermediate level science and engineering technicians and professions</li> <li>132 - Technicians and professionals, of intermediate level of health</li> <li>134 - Intermediate level technicians from legal, social, sports, cultural and similar services</li> <li>135 - Information and communication technology technicians</li> <li>141 - Office workers, secretaries in general and data processing operators</li> <li>143 - Data, accounting, statistical, financial services and registry-related operators</li> <li>144 - Other administrative support staff</li> <li>151 - personal service workers</li> <li>152 - sellers</li> <li>153 - Personal care workers and the like</li> <li>154 - Protection and security services personnel</li> <li>161 - Market-oriented farmers and skilled agricultural and animal production workers</li> <li>163 - Farmers, livestock keepers, fishermen, hunters and gatherers, subsistence</li> <li>171 - Skilled construction workers and the like, except electricians</li> <li>172 - Skilled workers in metallurgy, metalworking and similar</li> <li>174 - Skilled workers in electricity and electronics</li> <li>175 - Workers in food processing, woodworking, clothing and other industries and crafts</li> <li>181 - Fixed plant and machine operators</li> <li>182 - assembly workers</li> <li>183 - Vehicle drivers and mobile equipment operators</li> <li>192 - Unskilled workers in agriculture, animal production, fisheries and forestry</li> <li>193 - Unskilled workers in extractive industry, construction, manufacturing and transport</li> <li>194 - Meal preparation assistants</li> <li>195 - Street vendors (except food) and street service providers</li> </ul>"
   ]
  },
  {
   "cell_type": "markdown",
   "id": "72a6df4c",
   "metadata": {},
   "source": [
    "<hr/>"
   ]
  },
  {
   "cell_type": "markdown",
   "id": "aef08927",
   "metadata": {},
   "source": [
    "<h3 style=\"color: #92B24B;\">Admission grade</h3>"
   ]
  },
  {
   "cell_type": "markdown",
   "id": "8c43daa4",
   "metadata": {},
   "source": [
    "<li style=\"color: #0E66AD; font-weight: bold;\">Admission grade (between 0 and 200)</li>"
   ]
  },
  {
   "cell_type": "code",
   "execution_count": 11,
   "id": "7bfc22f5",
   "metadata": {
    "scrolled": true
   },
   "outputs": [
    {
     "data": {
      "text/plain": [
       "Admission grade\n",
       "120.0    2995\n",
       "130.0    2704\n",
       "140.0    2623\n",
       "100.0    1683\n",
       "110.0    1482\n",
       "         ... \n",
       "149.1       1\n",
       "164.7       1\n",
       "111.2       1\n",
       "178.6       1\n",
       "165.9       1\n",
       "Name: count, Length: 668, dtype: int64"
      ]
     },
     "execution_count": 11,
     "metadata": {},
     "output_type": "execute_result"
    }
   ],
   "source": [
    "df_train['Admission grade'].value_counts()"
   ]
  },
  {
   "cell_type": "code",
   "execution_count": 18,
   "id": "36509523",
   "metadata": {
    "scrolled": true
   },
   "outputs": [
    {
     "data": {
      "text/html": [
       "<div>\n",
       "<style scoped>\n",
       "    .dataframe tbody tr th:only-of-type {\n",
       "        vertical-align: middle;\n",
       "    }\n",
       "\n",
       "    .dataframe tbody tr th {\n",
       "        vertical-align: top;\n",
       "    }\n",
       "\n",
       "    .dataframe thead th {\n",
       "        text-align: right;\n",
       "    }\n",
       "</style>\n",
       "<table border=\"1\" class=\"dataframe\">\n",
       "  <thead>\n",
       "    <tr style=\"text-align: right;\">\n",
       "      <th></th>\n",
       "      <th>Admission grade</th>\n",
       "      <th>Target</th>\n",
       "    </tr>\n",
       "  </thead>\n",
       "  <tbody>\n",
       "    <tr>\n",
       "      <th>0</th>\n",
       "      <td>122.6</td>\n",
       "      <td>Graduate</td>\n",
       "    </tr>\n",
       "    <tr>\n",
       "      <th>1</th>\n",
       "      <td>119.8</td>\n",
       "      <td>Dropout</td>\n",
       "    </tr>\n",
       "    <tr>\n",
       "      <th>2</th>\n",
       "      <td>144.7</td>\n",
       "      <td>Dropout</td>\n",
       "    </tr>\n",
       "    <tr>\n",
       "      <th>3</th>\n",
       "      <td>126.1</td>\n",
       "      <td>Enrolled</td>\n",
       "    </tr>\n",
       "    <tr>\n",
       "      <th>4</th>\n",
       "      <td>120.1</td>\n",
       "      <td>Graduate</td>\n",
       "    </tr>\n",
       "    <tr>\n",
       "      <th>...</th>\n",
       "      <td>...</td>\n",
       "      <td>...</td>\n",
       "    </tr>\n",
       "    <tr>\n",
       "      <th>76513</th>\n",
       "      <td>116.5</td>\n",
       "      <td>Graduate</td>\n",
       "    </tr>\n",
       "    <tr>\n",
       "      <th>76514</th>\n",
       "      <td>131.6</td>\n",
       "      <td>Graduate</td>\n",
       "    </tr>\n",
       "    <tr>\n",
       "      <th>76515</th>\n",
       "      <td>123.3</td>\n",
       "      <td>Enrolled</td>\n",
       "    </tr>\n",
       "    <tr>\n",
       "      <th>76516</th>\n",
       "      <td>124.8</td>\n",
       "      <td>Dropout</td>\n",
       "    </tr>\n",
       "    <tr>\n",
       "      <th>76517</th>\n",
       "      <td>131.0</td>\n",
       "      <td>Graduate</td>\n",
       "    </tr>\n",
       "  </tbody>\n",
       "</table>\n",
       "<p>76518 rows × 2 columns</p>\n",
       "</div>"
      ],
      "text/plain": [
       "       Admission grade    Target\n",
       "0                122.6  Graduate\n",
       "1                119.8   Dropout\n",
       "2                144.7   Dropout\n",
       "3                126.1  Enrolled\n",
       "4                120.1  Graduate\n",
       "...                ...       ...\n",
       "76513            116.5  Graduate\n",
       "76514            131.6  Graduate\n",
       "76515            123.3  Enrolled\n",
       "76516            124.8   Dropout\n",
       "76517            131.0  Graduate\n",
       "\n",
       "[76518 rows x 2 columns]"
      ]
     },
     "execution_count": 18,
     "metadata": {},
     "output_type": "execute_result"
    }
   ],
   "source": [
    "df_train[['Admission grade', 'Target']]"
   ]
  },
  {
   "cell_type": "code",
   "execution_count": 25,
   "id": "70d1d730",
   "metadata": {},
   "outputs": [
    {
     "data": {
      "text/plain": [
       "<Axes: title={'center': 'Admission grade'}, xlabel='[Target]'>"
      ]
     },
     "execution_count": 25,
     "metadata": {},
     "output_type": "execute_result"
    },
    {
     "data": {
      "image/png": "[encoded data removed]",
      "text/plain": [
       "<Figure size 1000x600 with 1 Axes>"
      ]
     },
     "metadata": {},
     "output_type": "display_data"
    }
   ],
   "source": [
    "df_train[['Admission grade', 'Target']].boxplot(by='Target', figsize=(10, 6))"
   ]
  },
  {
   "cell_type": "code",
   "execution_count": 60,
   "id": "fe8c504b",
   "metadata": {},
   "outputs": [
    {
     "name": "stdout",
     "output_type": "stream",
     "text": [
      "The mean of is: Admission grade 125.36397139281887\n",
      "The min of is: Admission grade 95.0\n",
      "The max of is: Admission grade 190.0\n"
     ]
    }
   ],
   "source": [
    "print('The mean of is: Admission grade', df_train['Admission grade'].mean())\n",
    "print('The min of is: Admission grade', df_train['Admission grade'].min())\n",
    "print('The max of is: Admission grade', df_train['Admission grade'].max())"
   ]
  },
  {
   "cell_type": "code",
   "execution_count": 43,
   "id": "7aad3bac",
   "metadata": {
    "scrolled": false
   },
   "outputs": [
    {
     "name": "stdout",
     "output_type": "stream",
     "text": [
      "Number of students who Graduated and have Admission grade more than the mean or equal it (125.0) is:  21288\n",
      "Number of students who Enrolled and have Admission grade more than the mean or equal it (125.0) is:  5845\n",
      "Number of students who Dropout and have Admission grade more than the mean or equal it (125.0) is:  10475\n"
     ]
    }
   ],
   "source": [
    "print('Number of students who Graduated and have Admission grade more than the mean or equal it (125.0) is: ', df_train.loc[(pd.to_numeric(df_train['Admission grade']) >= 125.0) & (df_train['Target'] == 'Graduate')].shape[0])\n",
    "print('Number of students who Enrolled and have Admission grade more than the mean or equal it (125.0) is: ', df_train.loc[(pd.to_numeric(df_train['Admission grade']) >= 125.0) & (df_train['Target'] == 'Enrolled')].shape[0] )\n",
    "print('Number of students who Dropout and have Admission grade more than the mean or equal it (125.0) is: ', df_train.loc[(pd.to_numeric(df_train['Admission grade']) >= 125.0) & (df_train['Target'] == 'Dropout')].shape[0] )\n"
   ]
  },
  {
   "cell_type": "code",
   "execution_count": 48,
   "id": "673f339c",
   "metadata": {},
   "outputs": [
    {
     "data": {
      "image/png": "[encoded data removed]",
      "text/plain": [
       "<Figure size 800x600 with 1 Axes>"
      ]
     },
     "metadata": {},
     "output_type": "display_data"
    }
   ],
   "source": [
    "import matplotlib.pyplot as plt\n",
    "import pandas as pd\n",
    "\n",
    "# Assuming your DataFrame is named 'df_train'\n",
    "df_train['Admission grade'] = pd.to_numeric(df_train['Admission grade'])\n",
    "\n",
    "# Calculate the counts\n",
    "graduate_count = df_train.loc[(df_train['Admission grade'] >= 125.0) & (df_train['Target'] == 'Graduate')].shape[0]\n",
    "enrolled_count = df_train.loc[(df_train['Admission grade'] >= 125.0) & (df_train['Target'] == 'Enrolled')].shape[0]\n",
    "dropout_count = df_train.loc[(df_train['Admission grade'] >= 125.0) & (df_train['Target'] == 'Dropout')].shape[0]\n",
    "\n",
    "# Create the bar chart\n",
    "fig, ax = plt.subplots(figsize=(8, 6))\n",
    "x = ['Graduate', 'Enrolled', 'Dropout']\n",
    "y = [graduate_count, enrolled_count, dropout_count]\n",
    "ax.bar(x, y)\n",
    "\n",
    "# Add labels and title\n",
    "ax.set_xlabel('Target')\n",
    "ax.set_ylabel('Count')\n",
    "ax.set_title('Students with Admission Grade >= 125.0')\n",
    "\n",
    "# Display the chart\n",
    "plt.show()"
   ]
  },
  {
   "cell_type": "code",
   "execution_count": 46,
   "id": "6eb1596a",
   "metadata": {},
   "outputs": [
    {
     "name": "stdout",
     "output_type": "stream",
     "text": [
      "Number of students who Graduated and have Admission grade more than the mean or equal it (125.0) is:  15239\n",
      "Number of students who Enrolled and have Admission grade more than the mean or equal it (125.0) is:  9217\n",
      "Number of students who Dropout and have Admission grade more than the mean or equal it (125.0) is:  14921\n"
     ]
    }
   ],
   "source": [
    "print('Number of students who Graduated and have Admission grade less than the mean or equal it (125.0) is: ', df_train.loc[(pd.to_numeric(df_train['Admission grade']) <= 125.0) & (df_train['Target'] == 'Graduate')].shape[0])\n",
    "print('Number of students who Enrolled and have Admission grade less than the mean or equal it (125.0) is: ', df_train.loc[(pd.to_numeric(df_train['Admission grade']) <= 125.0) & (df_train['Target'] == 'Enrolled')].shape[0] )\n",
    "print('Number of students who Dropout and have Admission grade less than the mean or equal it (125.0) is: ', df_train.loc[(pd.to_numeric(df_train['Admission grade']) <= 125.0) & (df_train['Target'] == 'Dropout')].shape[0] )\n"
   ]
  },
  {
   "cell_type": "code",
   "execution_count": 49,
   "id": "480b852c",
   "metadata": {},
   "outputs": [
    {
     "data": {
      "image/png": "[encoded data removed]",
      "text/plain": [
       "<Figure size 800x600 with 1 Axes>"
      ]
     },
     "metadata": {},
     "output_type": "display_data"
    }
   ],
   "source": [
    "import matplotlib.pyplot as plt\n",
    "import pandas as pd\n",
    "\n",
    "# Assuming your DataFrame is named 'df_train'\n",
    "df_train['Admission grade'] = pd.to_numeric(df_train['Admission grade'])\n",
    "\n",
    "# Calculate the counts\n",
    "graduate_count = df_train.loc[(df_train['Admission grade'] <= 125.0) & (df_train['Target'] == 'Graduate')].shape[0]\n",
    "enrolled_count = df_train.loc[(df_train['Admission grade'] <= 125.0) & (df_train['Target'] == 'Enrolled')].shape[0]\n",
    "dropout_count = df_train.loc[(df_train['Admission grade'] <= 125.0) & (df_train['Target'] == 'Dropout')].shape[0]\n",
    "\n",
    "# Create the bar chart\n",
    "fig, ax = plt.subplots(figsize=(8, 6))\n",
    "x = ['Graduate', 'Enrolled', 'Dropout']\n",
    "y = [graduate_count, enrolled_count, dropout_count]\n",
    "ax.bar(x, y)\n",
    "\n",
    "# Add labels and title\n",
    "ax.set_xlabel('Target')\n",
    "ax.set_ylabel('Count')\n",
    "ax.set_title('Students with Admission Grade <= 125.0')\n",
    "\n",
    "# Display the chart\n",
    "plt.show()"
   ]
  },
  {
   "cell_type": "code",
   "execution_count": 59,
   "id": "89e0d97c",
   "metadata": {
    "scrolled": true
   },
   "outputs": [
    {
     "name": "stdout",
     "output_type": "stream",
     "text": [
      "Number of students who Graduated and have Admission grade less than the min or equal it (95.0) is:  61\n",
      "Number of students who Enrolled and have Admission grade less than the min or equal it (95.0) is:  37\n",
      "Number of students who Dropout and have Admission grade less than the min or equal it (95.0) is:  196\n"
     ]
    }
   ],
   "source": [
    "print('Number of students who Graduated and have Admission grade less than the min or equal it (95.0) is: ', df_train.loc[(pd.to_numeric(df_train['Admission grade']) <= 95.0) & (df_train['Target'] == 'Graduate')].shape[0])\n",
    "print('Number of students who Enrolled and have Admission grade less than the min or equal it (95.0) is: ', df_train.loc[(pd.to_numeric(df_train['Admission grade']) <= 95.0) & (df_train['Target'] == 'Enrolled')].shape[0] )\n",
    "print('Number of students who Dropout and have Admission grade less than the min or equal it (95.0) is: ', df_train.loc[(pd.to_numeric(df_train['Admission grade']) <= 95.0) & (df_train['Target'] == 'Dropout')].shape[0] )"
   ]
  },
  {
   "cell_type": "code",
   "execution_count": 61,
   "id": "474de70b",
   "metadata": {},
   "outputs": [
    {
     "data": {
      "image/png": "[encoded data removed]",
      "text/plain": [
       "<Figure size 800x600 with 1 Axes>"
      ]
     },
     "metadata": {},
     "output_type": "display_data"
    }
   ],
   "source": [
    "\n",
    "df_train['Admission grade'] = pd.to_numeric(df_train['Admission grade'])\n",
    "\n",
    "# Calculate the counts\n",
    "graduate_count = df_train.loc[(df_train['Admission grade'] <= 95.0) & (df_train['Target'] == 'Graduate')].shape[0]\n",
    "enrolled_count = df_train.loc[(df_train['Admission grade'] <= 95.0) & (df_train['Target'] == 'Enrolled')].shape[0]\n",
    "dropout_count = df_train.loc[(df_train['Admission grade'] <= 95.0) & (df_train['Target'] == 'Dropout')].shape[0]\n",
    "\n",
    "# Create the bar chart\n",
    "fig, ax = plt.subplots(figsize=(8, 6))\n",
    "x = ['Graduate', 'Enrolled', 'Dropout']\n",
    "y = [graduate_count, enrolled_count, dropout_count]\n",
    "ax.bar(x, y)\n",
    "\n",
    "# Add labels and title\n",
    "ax.set_xlabel('Target')\n",
    "ax.set_ylabel('Count')\n",
    "ax.set_title('Students with Admission Grade <= 95.0')\n",
    "\n",
    "# Display the chart\n",
    "plt.show()"
   ]
  },
  {
   "cell_type": "markdown",
   "id": "fa0978d1",
   "metadata": {},
   "source": [
    "<hr/>"
   ]
  },
  {
   "cell_type": "markdown",
   "id": "b51e89ab",
   "metadata": {},
   "source": [
    "<h3 style=\"color: #92B24B;\">Displaced</h3>"
   ]
  },
  {
   "cell_type": "markdown",
   "id": "16f4c81e",
   "metadata": {},
   "source": [
    "<ul>\n",
    "  <li style=\"color: #0E66AD; font-weight: bold;\">\n",
    "    <span style=\"color:#D75E0F; font-size: 18px; font-weight: bold;\">1 -</span> yes\n",
    "  </li>\n",
    "  <li style=\"color: #0E66AD; font-weight: bold;\">\n",
    "    <span style=\"color:#D75E0F; font-size: 18px; font-weight: bold;\">0 -</span> no\n",
    "  </li>\n",
    "</ul>\n"
   ]
  },
  {
   "cell_type": "code",
   "execution_count": 63,
   "id": "2c60b082",
   "metadata": {},
   "outputs": [
    {
     "data": {
      "text/plain": [
       "<Axes: ylabel='count'>"
      ]
     },
     "execution_count": 63,
     "metadata": {},
     "output_type": "execute_result"
    },
    {
     "data": {
      "image/png": "[encoded data removed]",
      "text/plain": [
       "<Figure size 1400x600 with 1 Axes>"
      ]
     },
     "metadata": {},
     "output_type": "display_data"
    }
   ],
   "source": [
    "df_train['Displaced'].value_counts().plot(kind='pie', figsize=(14, 6))"
   ]
  },
  {
   "cell_type": "code",
   "execution_count": 95,
   "id": "b9d56ef6",
   "metadata": {
    "scrolled": true
   },
   "outputs": [
    {
     "data": {
      "text/html": [
       "<div>\n",
       "<style scoped>\n",
       "    .dataframe tbody tr th:only-of-type {\n",
       "        vertical-align: middle;\n",
       "    }\n",
       "\n",
       "    .dataframe tbody tr th {\n",
       "        vertical-align: top;\n",
       "    }\n",
       "\n",
       "    .dataframe thead th {\n",
       "        text-align: right;\n",
       "    }\n",
       "</style>\n",
       "<table border=\"1\" class=\"dataframe\">\n",
       "  <thead>\n",
       "    <tr style=\"text-align: right;\">\n",
       "      <th></th>\n",
       "      <th>Enrolled</th>\n",
       "      <th>Dropout</th>\n",
       "      <th>Graduate</th>\n",
       "    </tr>\n",
       "    <tr>\n",
       "      <th>Displaced</th>\n",
       "      <th></th>\n",
       "      <th></th>\n",
       "      <th></th>\n",
       "    </tr>\n",
       "  </thead>\n",
       "  <tbody>\n",
       "    <tr>\n",
       "      <th>0</th>\n",
       "      <td>6400</td>\n",
       "      <td>13431</td>\n",
       "      <td>13128</td>\n",
       "    </tr>\n",
       "    <tr>\n",
       "      <th>1</th>\n",
       "      <td>8540</td>\n",
       "      <td>11865</td>\n",
       "      <td>23154</td>\n",
       "    </tr>\n",
       "  </tbody>\n",
       "</table>\n",
       "</div>"
      ],
      "text/plain": [
       "           Enrolled  Dropout  Graduate\n",
       "Displaced                             \n",
       "0              6400    13431     13128\n",
       "1              8540    11865     23154"
      ]
     },
     "execution_count": 95,
     "metadata": {},
     "output_type": "execute_result"
    }
   ],
   "source": [
    "enrolled_displaced = df_train.loc[df_train['Target'] == 'Enrolled', 'Displaced'].value_counts()\n",
    "dropout_displaced = df_train.loc[df_train['Target'] == 'Dropout', 'Displaced'].value_counts()\n",
    "graduate_displaced = df_train.loc[df_train['Target'] == 'Graduate', 'Displaced'].value_counts()\n",
    "\n",
    "\n",
    "data = {\n",
    "    'Enrolled': enrolled_displaced,\n",
    "    'Dropout': dropout_displaced,\n",
    "    'Graduate': graduate_displaced\n",
    "}\n",
    "\n",
    "df = pd.DataFrame(data)\n",
    "\n",
    "\n",
    "df"
   ]
  },
  {
   "cell_type": "code",
   "execution_count": 69,
   "id": "3679390f",
   "metadata": {},
   "outputs": [
    {
     "data": {
      "image/png": "[encoded data removed]",
      "text/plain": [
       "<Figure size 1000x600 with 1 Axes>"
      ]
     },
     "metadata": {},
     "output_type": "display_data"
    }
   ],
   "source": [
    "df.plot(kind='bar',  figsize=(10, 6))\n",
    "\n",
    "\n",
    "plt.xlabel('Displaced')\n",
    "plt.ylabel('Count')\n",
    "plt.title('Displaced Value Counts by Target')\n",
    "\n",
    "plt.show()"
   ]
  },
  {
   "cell_type": "markdown",
   "id": "de1d9282",
   "metadata": {},
   "source": [
    "<hr/>"
   ]
  },
  {
   "cell_type": "markdown",
   "id": "8ab66d9e",
   "metadata": {},
   "source": [
    "<h3 style=\"color: #92B24B;\">Educational special needs</h3>"
   ]
  },
  {
   "cell_type": "markdown",
   "id": "ecbbedfb",
   "metadata": {},
   "source": [
    "<ul>\n",
    "  <li style=\"color: #0E66AD; font-weight: bold;\">\n",
    "    <span style=\"color:#D75E0F; font-size: 18px; font-weight: bold;\">1 -</span> yes\n",
    "  </li>\n",
    "  <li style=\"color: #0E66AD; font-weight: bold;\">\n",
    "    <span style=\"color:#D75E0F; font-size: 18px; font-weight: bold;\">0 -</span> no\n",
    "  </li>\n",
    "</ul>"
   ]
  },
  {
   "cell_type": "code",
   "execution_count": 73,
   "id": "e7c70eb5",
   "metadata": {},
   "outputs": [
    {
     "data": {
      "text/plain": [
       "Educational special needs\n",
       "0    76232\n",
       "1      286\n",
       "Name: count, dtype: int64"
      ]
     },
     "execution_count": 73,
     "metadata": {},
     "output_type": "execute_result"
    }
   ],
   "source": [
    "df_train['Educational special needs'].value_counts()"
   ]
  },
  {
   "cell_type": "code",
   "execution_count": 93,
   "id": "7682ea8a",
   "metadata": {
    "scrolled": false
   },
   "outputs": [
    {
     "data": {
      "text/plain": [
       "<Axes: xlabel='Educational special needs'>"
      ]
     },
     "execution_count": 93,
     "metadata": {},
     "output_type": "execute_result"
    },
    {
     "data": {
      "image/png": "[encoded data removed]",
      "text/plain": [
       "<Figure size 1200x600 with 1 Axes>"
      ]
     },
     "metadata": {},
     "output_type": "display_data"
    }
   ],
   "source": [
    "df_train['Educational special needs'].value_counts().plot(kind='bar', figsize=(12, 6), color='orange')"
   ]
  },
  {
   "cell_type": "code",
   "execution_count": 81,
   "id": "71b22078",
   "metadata": {},
   "outputs": [
    {
     "data": {
      "text/html": [
       "<div>\n",
       "<style scoped>\n",
       "    .dataframe tbody tr th:only-of-type {\n",
       "        vertical-align: middle;\n",
       "    }\n",
       "\n",
       "    .dataframe tbody tr th {\n",
       "        vertical-align: top;\n",
       "    }\n",
       "\n",
       "    .dataframe thead th {\n",
       "        text-align: right;\n",
       "    }\n",
       "</style>\n",
       "<table border=\"1\" class=\"dataframe\">\n",
       "  <thead>\n",
       "    <tr style=\"text-align: right;\">\n",
       "      <th></th>\n",
       "      <th>Graduate</th>\n",
       "      <th>Enrolled</th>\n",
       "      <th>Dropout</th>\n",
       "    </tr>\n",
       "    <tr>\n",
       "      <th>Educational special needs</th>\n",
       "      <th></th>\n",
       "      <th></th>\n",
       "      <th></th>\n",
       "    </tr>\n",
       "  </thead>\n",
       "  <tbody>\n",
       "    <tr>\n",
       "      <th>0</th>\n",
       "      <td>36149</td>\n",
       "      <td>14881</td>\n",
       "      <td>25202</td>\n",
       "    </tr>\n",
       "    <tr>\n",
       "      <th>1</th>\n",
       "      <td>133</td>\n",
       "      <td>59</td>\n",
       "      <td>94</td>\n",
       "    </tr>\n",
       "  </tbody>\n",
       "</table>\n",
       "</div>"
      ],
      "text/plain": [
       "                           Graduate  Enrolled  Dropout\n",
       "Educational special needs                             \n",
       "0                             36149     14881    25202\n",
       "1                               133        59       94"
      ]
     },
     "execution_count": 81,
     "metadata": {},
     "output_type": "execute_result"
    }
   ],
   "source": [
    "\n",
    "graduate_edu_needs = df_train.loc[df_train['Target'] == 'Graduate', 'Educational special needs'].value_counts()\n",
    "enrolled_edu_needs = df_train.loc[df_train['Target'] == 'Enrolled', 'Educational special needs'].value_counts()\n",
    "dropout_edu_needs = df_train.loc[df_train['Target'] == 'Dropout', 'Educational special needs'].value_counts()\n",
    "\n",
    "\n",
    "data2 = {\n",
    "    'Graduate': graduate_edu_needs,\n",
    "    'Enrolled': enrolled_edu_needs,\n",
    "    'Dropout': dropout_edu_needs\n",
    "}\n",
    "\n",
    "df2 = pd.DataFrame(data2)\n",
    "\n",
    "\n",
    "df2"
   ]
  },
  {
   "cell_type": "code",
   "execution_count": 82,
   "id": "d20d06f3",
   "metadata": {},
   "outputs": [
    {
     "data": {
      "image/png": "[encoded data removed]",
      "text/plain": [
       "<Figure size 1000x600 with 1 Axes>"
      ]
     },
     "metadata": {},
     "output_type": "display_data"
    }
   ],
   "source": [
    "df2.plot(kind='bar',  figsize=(10, 6))\n",
    "\n",
    "\n",
    "plt.xlabel('Educational special needs')\n",
    "plt.ylabel('Count')\n",
    "plt.title('Educational special needs by Target')\n",
    "\n",
    "plt.show()"
   ]
  },
  {
   "cell_type": "markdown",
   "id": "353b270c",
   "metadata": {},
   "source": [
    "<hr/>"
   ]
  },
  {
   "cell_type": "markdown",
   "id": "c866809e",
   "metadata": {},
   "source": [
    "<h3 style=\"color: #92B24B;\">Debtor</h3>"
   ]
  },
  {
   "cell_type": "markdown",
   "id": "4f42ec19",
   "metadata": {},
   "source": [
    "<ul>\n",
    "  <li style=\"color: #0E66AD; font-weight: bold;\">\n",
    "    <span style=\"color:#D75E0F; font-size: 18px; font-weight: bold;\">1 -</span> yes\n",
    "  </li>\n",
    "  <li style=\"color: #0E66AD; font-weight: bold;\">\n",
    "    <span style=\"color:#D75E0F; font-size: 18px; font-weight: bold;\">0 -</span> no\n",
    "  </li>\n",
    "</ul>"
   ]
  },
  {
   "cell_type": "code",
   "execution_count": 83,
   "id": "b26968b4",
   "metadata": {},
   "outputs": [
    {
     "data": {
      "text/plain": [
       "Debtor\n",
       "0    71056\n",
       "1     5462\n",
       "Name: count, dtype: int64"
      ]
     },
     "execution_count": 83,
     "metadata": {},
     "output_type": "execute_result"
    }
   ],
   "source": [
    "df_train['Debtor'].value_counts()"
   ]
  },
  {
   "cell_type": "code",
   "execution_count": 84,
   "id": "aefb692f",
   "metadata": {},
   "outputs": [
    {
     "data": {
      "text/plain": [
       "<Axes: ylabel='count'>"
      ]
     },
     "execution_count": 84,
     "metadata": {},
     "output_type": "execute_result"
    },
    {
     "data": {
      "image/png": "[encoded data removed]",
      "text/plain": [
       "<Figure size 600x600 with 1 Axes>"
      ]
     },
     "metadata": {},
     "output_type": "display_data"
    }
   ],
   "source": [
    "df_train['Debtor'].value_counts().plot(kind='pie', figsize=(6,6))"
   ]
  },
  {
   "cell_type": "code",
   "execution_count": 87,
   "id": "43b27990",
   "metadata": {},
   "outputs": [
    {
     "data": {
      "text/html": [
       "<div>\n",
       "<style scoped>\n",
       "    .dataframe tbody tr th:only-of-type {\n",
       "        vertical-align: middle;\n",
       "    }\n",
       "\n",
       "    .dataframe tbody tr th {\n",
       "        vertical-align: top;\n",
       "    }\n",
       "\n",
       "    .dataframe thead th {\n",
       "        text-align: right;\n",
       "    }\n",
       "</style>\n",
       "<table border=\"1\" class=\"dataframe\">\n",
       "  <thead>\n",
       "    <tr style=\"text-align: right;\">\n",
       "      <th></th>\n",
       "      <th>Graduate</th>\n",
       "      <th>Enrolled</th>\n",
       "      <th>Dropout</th>\n",
       "    </tr>\n",
       "    <tr>\n",
       "      <th>Debtor</th>\n",
       "      <th></th>\n",
       "      <th></th>\n",
       "      <th></th>\n",
       "    </tr>\n",
       "  </thead>\n",
       "  <tbody>\n",
       "    <tr>\n",
       "      <th>0</th>\n",
       "      <td>35652</td>\n",
       "      <td>14287</td>\n",
       "      <td>21117</td>\n",
       "    </tr>\n",
       "    <tr>\n",
       "      <th>1</th>\n",
       "      <td>630</td>\n",
       "      <td>653</td>\n",
       "      <td>4179</td>\n",
       "    </tr>\n",
       "  </tbody>\n",
       "</table>\n",
       "</div>"
      ],
      "text/plain": [
       "        Graduate  Enrolled  Dropout\n",
       "Debtor                             \n",
       "0          35652     14287    21117\n",
       "1            630       653     4179"
      ]
     },
     "execution_count": 87,
     "metadata": {},
     "output_type": "execute_result"
    }
   ],
   "source": [
    "graduate_debtor = df_train.loc[df_train['Target'] == 'Graduate', 'Debtor'].value_counts()\n",
    "enrolled_debtor = df_train.loc[df_train['Target'] == 'Enrolled', 'Debtor'].value_counts()\n",
    "dropout_debtor = df_train.loc[df_train['Target'] == 'Dropout', 'Debtor'].value_counts()\n",
    "\n",
    "\n",
    "data3 = {\n",
    "    'Graduate': graduate_debtor,\n",
    "    'Enrolled': enrolled_debtor,\n",
    "    'Dropout': dropout_debtor\n",
    "}\n",
    "df3 = pd.DataFrame(data3)\n",
    "\n",
    "df3"
   ]
  },
  {
   "cell_type": "code",
   "execution_count": 88,
   "id": "a98796b7",
   "metadata": {},
   "outputs": [
    {
     "data": {
      "image/png": "[encoded data removed]",
      "text/plain": [
       "<Figure size 1000x600 with 1 Axes>"
      ]
     },
     "metadata": {},
     "output_type": "display_data"
    }
   ],
   "source": [
    "df3.plot(kind='bar',  figsize=(10, 6))\n",
    "\n",
    "\n",
    "plt.xlabel('Debtor')\n",
    "plt.ylabel('Count')\n",
    "plt.title('Debtor by Target')\n",
    "\n",
    "plt.show()"
   ]
  },
  {
   "cell_type": "markdown",
   "id": "77d8d7ed",
   "metadata": {},
   "source": [
    "<hr/>"
   ]
  },
  {
   "cell_type": "markdown",
   "id": "aa903c60",
   "metadata": {},
   "source": [
    "<h3 style=\"color: #92B24B;\">Tuition fees up to date</h3>"
   ]
  },
  {
   "cell_type": "markdown",
   "id": "9337f460",
   "metadata": {},
   "source": [
    "<ul>\n",
    "  <li style=\"color: #0E66AD; font-weight: bold;\">\n",
    "    <span style=\"color:#D75E0F; font-size: 18px; font-weight: bold;\">1 -</span> yes\n",
    "  </li>\n",
    "  <li style=\"color: #0E66AD; font-weight: bold;\">\n",
    "    <span style=\"color:#D75E0F; font-size: 18px; font-weight: bold;\">0 -</span> no\n",
    "  </li>\n",
    "</ul>"
   ]
  },
  {
   "cell_type": "code",
   "execution_count": 89,
   "id": "e3dd4465",
   "metadata": {
    "scrolled": true
   },
   "outputs": [
    {
     "data": {
      "text/plain": [
       "Tuition fees up to date\n",
       "1    68380\n",
       "0     8138\n",
       "Name: count, dtype: int64"
      ]
     },
     "execution_count": 89,
     "metadata": {},
     "output_type": "execute_result"
    }
   ],
   "source": [
    "df_train['Tuition fees up to date'].value_counts()"
   ]
  },
  {
   "cell_type": "code",
   "execution_count": 92,
   "id": "93214337",
   "metadata": {},
   "outputs": [
    {
     "data": {
      "text/html": [
       "<div>\n",
       "<style scoped>\n",
       "    .dataframe tbody tr th:only-of-type {\n",
       "        vertical-align: middle;\n",
       "    }\n",
       "\n",
       "    .dataframe tbody tr th {\n",
       "        vertical-align: top;\n",
       "    }\n",
       "\n",
       "    .dataframe thead th {\n",
       "        text-align: right;\n",
       "    }\n",
       "</style>\n",
       "<table border=\"1\" class=\"dataframe\">\n",
       "  <thead>\n",
       "    <tr style=\"text-align: right;\">\n",
       "      <th></th>\n",
       "      <th>Graduate</th>\n",
       "      <th>Enrolled</th>\n",
       "      <th>Dropout</th>\n",
       "    </tr>\n",
       "    <tr>\n",
       "      <th>Tuition fees up to date</th>\n",
       "      <th></th>\n",
       "      <th></th>\n",
       "      <th></th>\n",
       "    </tr>\n",
       "  </thead>\n",
       "  <tbody>\n",
       "    <tr>\n",
       "      <th>1</th>\n",
       "      <td>36152</td>\n",
       "      <td>14577</td>\n",
       "      <td>17651</td>\n",
       "    </tr>\n",
       "    <tr>\n",
       "      <th>0</th>\n",
       "      <td>130</td>\n",
       "      <td>363</td>\n",
       "      <td>7645</td>\n",
       "    </tr>\n",
       "  </tbody>\n",
       "</table>\n",
       "</div>"
      ],
      "text/plain": [
       "                         Graduate  Enrolled  Dropout\n",
       "Tuition fees up to date                             \n",
       "1                           36152     14577    17651\n",
       "0                             130       363     7645"
      ]
     },
     "execution_count": 92,
     "metadata": {},
     "output_type": "execute_result"
    }
   ],
   "source": [
    "\n",
    "graduate_tuition_fees = df_train.loc[df_train['Target'] == 'Graduate', 'Tuition fees up to date'].value_counts()\n",
    "enrolled_tuition_fees = df_train.loc[df_train['Target'] == 'Enrolled', 'Tuition fees up to date'].value_counts()\n",
    "dropout_tuition_fees = df_train.loc[df_train['Target'] == 'Dropout', 'Tuition fees up to date'].value_counts()\n",
    "\n",
    "\n",
    "data4 = {\n",
    "    'Graduate': graduate_tuition_fees,\n",
    "    'Enrolled': enrolled_tuition_fees,\n",
    "    'Dropout': dropout_tuition_fees\n",
    "}\n",
    "\n",
    "df4 = pd.DataFrame(data4)\n",
    "\n",
    "df4"
   ]
  },
  {
   "cell_type": "markdown",
   "id": "8afdbee5",
   "metadata": {},
   "source": [
    "<hr/>"
   ]
  },
  {
   "cell_type": "markdown",
   "id": "6e322697",
   "metadata": {},
   "source": [
    "<h3 style=\"color: #92B24B;\">Gender</h3>"
   ]
  },
  {
   "cell_type": "markdown",
   "id": "c964f02f",
   "metadata": {},
   "source": [
    "<ul>\n",
    "  <li style=\"color: #0E66AD; font-weight: bold;\">\n",
    "    <span style=\"color:#D75E0F; font-size: 18px; font-weight: bold;\">1 -</span> male\n",
    "  </li>\n",
    "  <li style=\"color: #0E66AD; font-weight: bold;\">\n",
    "    <span style=\"color:#D75E0F; font-size: 18px; font-weight: bold;\">0 -</span> female\n",
    "  </li>\n",
    "</ul>"
   ]
  },
  {
   "cell_type": "code",
   "execution_count": 14,
   "id": "9c1029ac",
   "metadata": {
    "scrolled": true
   },
   "outputs": [
    {
     "data": {
      "text/plain": [
       "<Axes: xlabel='Gender'>"
      ]
     },
     "execution_count": 14,
     "metadata": {},
     "output_type": "execute_result"
    },
    {
     "data": {
      "image/png": "[encoded data removed]",
      "text/plain": [
       "<Figure size 1400x600 with 1 Axes>"
      ]
     },
     "metadata": {},
     "output_type": "display_data"
    }
   ],
   "source": [
    "df_train['Gender'].value_counts().plot(kind='bar',figsize=(14,6), color='orange')"
   ]
  },
  {
   "cell_type": "code",
   "execution_count": 94,
   "id": "fc7c635f",
   "metadata": {},
   "outputs": [
    {
     "data": {
      "text/html": [
       "<div>\n",
       "<style scoped>\n",
       "    .dataframe tbody tr th:only-of-type {\n",
       "        vertical-align: middle;\n",
       "    }\n",
       "\n",
       "    .dataframe tbody tr th {\n",
       "        vertical-align: top;\n",
       "    }\n",
       "\n",
       "    .dataframe thead th {\n",
       "        text-align: right;\n",
       "    }\n",
       "</style>\n",
       "<table border=\"1\" class=\"dataframe\">\n",
       "  <thead>\n",
       "    <tr style=\"text-align: right;\">\n",
       "      <th></th>\n",
       "      <th>Graduate</th>\n",
       "      <th>Enrolled</th>\n",
       "      <th>Dropout</th>\n",
       "    </tr>\n",
       "    <tr>\n",
       "      <th>Gender</th>\n",
       "      <th></th>\n",
       "      <th></th>\n",
       "      <th></th>\n",
       "    </tr>\n",
       "  </thead>\n",
       "  <tbody>\n",
       "    <tr>\n",
       "      <th>0</th>\n",
       "      <td>30232</td>\n",
       "      <td>9804</td>\n",
       "      <td>12316</td>\n",
       "    </tr>\n",
       "    <tr>\n",
       "      <th>1</th>\n",
       "      <td>6050</td>\n",
       "      <td>5136</td>\n",
       "      <td>12980</td>\n",
       "    </tr>\n",
       "  </tbody>\n",
       "</table>\n",
       "</div>"
      ],
      "text/plain": [
       "        Graduate  Enrolled  Dropout\n",
       "Gender                             \n",
       "0          30232      9804    12316\n",
       "1           6050      5136    12980"
      ]
     },
     "execution_count": 94,
     "metadata": {},
     "output_type": "execute_result"
    }
   ],
   "source": [
    "\n",
    "graduate_gender = df_train.loc[df_train['Target'] == 'Graduate', 'Gender'].value_counts()\n",
    "enrolled_gender = df_train.loc[df_train['Target'] == 'Enrolled', 'Gender'].value_counts()\n",
    "dropout_gender = df_train.loc[df_train['Target'] == 'Dropout', 'Gender'].value_counts()\n",
    "\n",
    "\n",
    "data5 = {\n",
    "    'Graduate': graduate_gender,\n",
    "    'Enrolled': enrolled_gender,\n",
    "    'Dropout': dropout_gender\n",
    "}\n",
    "df5 = pd.DataFrame(data5)\n",
    "\n",
    "df5"
   ]
  },
  {
   "cell_type": "markdown",
   "id": "e7e23bb1",
   "metadata": {},
   "source": [
    "<hr/>"
   ]
  },
  {
   "cell_type": "markdown",
   "id": "6a3593f6",
   "metadata": {},
   "source": [
    "<h3 style=\"color: #92B24B;\">Scholarship holder</h3>"
   ]
  },
  {
   "cell_type": "markdown",
   "id": "1a5aea1f",
   "metadata": {},
   "source": [
    "<ul>\n",
    "  <li style=\"color: #0E66AD; font-weight: bold;\">\n",
    "    <span style=\"color:#D75E0F; font-size: 18px; font-weight: bold;\">1 -</span> yes\n",
    "  </li>\n",
    "  <li style=\"color: #0E66AD; font-weight: bold;\">\n",
    "    <span style=\"color:#D75E0F; font-size: 18px; font-weight: bold;\">0 -</span> no\n",
    "  </li>\n",
    "</ul>"
   ]
  },
  {
   "cell_type": "code",
   "execution_count": 96,
   "id": "c5617087",
   "metadata": {},
   "outputs": [
    {
     "data": {
      "text/plain": [
       "Scholarship holder\n",
       "0    57588\n",
       "1    18930\n",
       "Name: count, dtype: int64"
      ]
     },
     "execution_count": 96,
     "metadata": {},
     "output_type": "execute_result"
    }
   ],
   "source": [
    "df_train['Scholarship holder'].value_counts()"
   ]
  },
  {
   "cell_type": "code",
   "execution_count": 98,
   "id": "16a5f2e8",
   "metadata": {},
   "outputs": [
    {
     "data": {
      "text/plain": [
       "<Axes: ylabel='count'>"
      ]
     },
     "execution_count": 98,
     "metadata": {},
     "output_type": "execute_result"
    },
    {
     "data": {
      "image/png": "[encoded data removed]",
      "text/plain": [
       "<Figure size 600x600 with 1 Axes>"
      ]
     },
     "metadata": {},
     "output_type": "display_data"
    }
   ],
   "source": [
    "df_train['Scholarship holder'].value_counts().plot(kind='pie',autopct='%1.1f%%', figsize=(6,6))"
   ]
  },
  {
   "cell_type": "code",
   "execution_count": 100,
   "id": "102983c1",
   "metadata": {},
   "outputs": [
    {
     "data": {
      "text/html": [
       "<div>\n",
       "<style scoped>\n",
       "    .dataframe tbody tr th:only-of-type {\n",
       "        vertical-align: middle;\n",
       "    }\n",
       "\n",
       "    .dataframe tbody tr th {\n",
       "        vertical-align: top;\n",
       "    }\n",
       "\n",
       "    .dataframe thead th {\n",
       "        text-align: right;\n",
       "    }\n",
       "</style>\n",
       "<table border=\"1\" class=\"dataframe\">\n",
       "  <thead>\n",
       "    <tr style=\"text-align: right;\">\n",
       "      <th></th>\n",
       "      <th>Graduate</th>\n",
       "      <th>Enrolled</th>\n",
       "      <th>Dropout</th>\n",
       "    </tr>\n",
       "    <tr>\n",
       "      <th>Scholarship holder</th>\n",
       "      <th></th>\n",
       "      <th></th>\n",
       "      <th></th>\n",
       "    </tr>\n",
       "  </thead>\n",
       "  <tbody>\n",
       "    <tr>\n",
       "      <th>0</th>\n",
       "      <td>20692</td>\n",
       "      <td>12949</td>\n",
       "      <td>23947</td>\n",
       "    </tr>\n",
       "    <tr>\n",
       "      <th>1</th>\n",
       "      <td>15590</td>\n",
       "      <td>1991</td>\n",
       "      <td>1349</td>\n",
       "    </tr>\n",
       "  </tbody>\n",
       "</table>\n",
       "</div>"
      ],
      "text/plain": [
       "                    Graduate  Enrolled  Dropout\n",
       "Scholarship holder                             \n",
       "0                      20692     12949    23947\n",
       "1                      15590      1991     1349"
      ]
     },
     "execution_count": 100,
     "metadata": {},
     "output_type": "execute_result"
    }
   ],
   "source": [
    "\n",
    "graduate_scholarship = df_train.loc[df_train['Target'] == 'Graduate','Scholarship holder'].value_counts()\n",
    "enrolled_scholarship = df_train.loc[df_train['Target'] == 'Enrolled', 'Scholarship holder'].value_counts()\n",
    "dropout_scholarship = df_train.loc[df_train['Target'] == 'Dropout', 'Scholarship holder'].value_counts()\n",
    "\n",
    "\n",
    "data6 = {\n",
    "    'Graduate': graduate_scholarship,\n",
    "    'Enrolled': enrolled_scholarship,\n",
    "    'Dropout': dropout_scholarship\n",
    "}\n",
    "df6 = pd.DataFrame(data6)\n",
    "\n",
    "df6"
   ]
  },
  {
   "cell_type": "markdown",
   "id": "89ec1b75",
   "metadata": {},
   "source": [
    "<hr/>"
   ]
  },
  {
   "cell_type": "markdown",
   "id": "b2148c6f",
   "metadata": {},
   "source": [
    "\n",
    "<h3 style=\"color: #92B24B;\"> Age at enrollment</h3>"
   ]
  },
  {
   "cell_type": "markdown",
   "id": "9f353c70",
   "metadata": {},
   "source": [
    "\n",
    "<li style=\"color: #0E66AD; font-weight: bold;\">Age of studend at enrollment</li>"
   ]
  },
  {
   "cell_type": "code",
   "execution_count": 13,
   "id": "7df6ac86",
   "metadata": {},
   "outputs": [
    {
     "data": {
      "text/plain": [
       "<Axes: >"
      ]
     },
     "execution_count": 13,
     "metadata": {},
     "output_type": "execute_result"
    },
    {
     "data": {
      "image/png": "[encoded data removed]",
      "text/plain": [
       "<Figure size 1400x600 with 1 Axes>"
      ]
     },
     "metadata": {},
     "output_type": "display_data"
    }
   ],
   "source": [
    "df_train['Age at enrollment'].plot(kind='box', vert=False, figsize=(14,6))"
   ]
  },
  {
   "cell_type": "code",
   "execution_count": 101,
   "id": "8075990d",
   "metadata": {},
   "outputs": [
    {
     "data": {
      "image/png": "[encoded data removed]",
      "text/plain": [
       "<Figure size 800x600 with 1 Axes>"
      ]
     },
     "metadata": {},
     "output_type": "display_data"
    }
   ],
   "source": [
    "\n",
    "plt.figure(figsize=(8, 6))\n",
    "sns.barplot(x='Target', y='Age at enrollment', data=df_train)\n",
    "plt.title('Average Age at Enrollment by Target')\n",
    "plt.xlabel('Target')\n",
    "plt.ylabel('Age')\n",
    "plt.show()"
   ]
  },
  {
   "cell_type": "markdown",
   "id": "a447aee6",
   "metadata": {},
   "source": [
    "<hr/>"
   ]
  },
  {
   "cell_type": "markdown",
   "id": "36ad172d",
   "metadata": {},
   "source": [
    "<h3 style=\"color: #92B24B;\">International</h3>"
   ]
  },
  {
   "cell_type": "markdown",
   "id": "5e2cf998",
   "metadata": {},
   "source": [
    "<ul>\n",
    "  <li style=\"color: #0E66AD; font-weight: bold;\">\n",
    "    <span style=\"color:#D75E0F; font-size: 18px; font-weight: bold;\">1 -</span> yes\n",
    "  </li>\n",
    "  <li style=\"color: #0E66AD; font-weight: bold;\">\n",
    "    <span style=\"color:#D75E0F; font-size: 18px; font-weight: bold;\">0 -</span> no\n",
    "  </li>\n",
    "</ul>"
   ]
  },
  {
   "cell_type": "markdown",
   "id": "39d1cdbb",
   "metadata": {},
   "source": [
    "<hr/>"
   ]
  },
  {
   "cell_type": "markdown",
   "id": "c75d080b",
   "metadata": {},
   "source": [
    "<h3 style=\"color: #92B24B;\">Curricular units 1st sem (credited)</h3>"
   ]
  },
  {
   "cell_type": "markdown",
   "id": "83d8b453",
   "metadata": {},
   "source": [
    "<li style=\"color: #0E66AD; font-weight: bold;\">Number of curricular units credited in the 1st semester</li>"
   ]
  },
  {
   "cell_type": "markdown",
   "id": "29123c79",
   "metadata": {},
   "source": [
    "<hr/>"
   ]
  },
  {
   "cell_type": "markdown",
   "id": "a1a85138",
   "metadata": {},
   "source": [
    "<h3 style=\"color: #92B24B;\">Curricular units 1st sem (enrolled)</h3>"
   ]
  },
  {
   "cell_type": "markdown",
   "id": "320404ff",
   "metadata": {},
   "source": [
    "<li style=\"color: #0E66AD; font-weight: bold;\">Number of curricular units enrolled in the 1st semester</li>"
   ]
  },
  {
   "cell_type": "markdown",
   "id": "634ae057",
   "metadata": {},
   "source": [
    "<hr/>"
   ]
  },
  {
   "cell_type": "markdown",
   "id": "66bd8c1f",
   "metadata": {},
   "source": [
    "<h3 style=\"color: #92B24B;\">Curricular units 1st sem (evaluations)</h3>"
   ]
  },
  {
   "cell_type": "markdown",
   "id": "4c3a047e",
   "metadata": {},
   "source": [
    "<li style=\"color: #0E66AD; font-weight: bold;\">Number of evaluations to curricular units in the 1st semester</li>"
   ]
  },
  {
   "cell_type": "markdown",
   "id": "539d2aed",
   "metadata": {},
   "source": [
    "<hr/>"
   ]
  },
  {
   "cell_type": "markdown",
   "id": "60376209",
   "metadata": {},
   "source": [
    "<h3 style=\"color: #92B24B;\">Curricular units 1st sem (approved)</h3>"
   ]
  },
  {
   "cell_type": "markdown",
   "id": "b02254f1",
   "metadata": {},
   "source": [
    "<li style=\"color: #0E66AD; font-weight: bold;\">Number of curricular units approved in the 1st semester</li>"
   ]
  },
  {
   "cell_type": "markdown",
   "id": "c170304c",
   "metadata": {},
   "source": [
    "<hr/>"
   ]
  },
  {
   "cell_type": "markdown",
   "id": "566b93d1",
   "metadata": {},
   "source": [
    "<h3 style=\"color: #92B24B;\">Curricular units 1st sem (grade)</h3>"
   ]
  },
  {
   "cell_type": "markdown",
   "id": "93da5622",
   "metadata": {},
   "source": [
    "<li style=\"color: #0E66AD; font-weight: bold;\">Grade average in the 1st semester (between 0 and 20)</li>"
   ]
  },
  {
   "cell_type": "markdown",
   "id": "4a6df086",
   "metadata": {},
   "source": [
    "<hr/>"
   ]
  },
  {
   "cell_type": "markdown",
   "id": "417dfb3e",
   "metadata": {},
   "source": [
    "<h3 style=\"color: #92B24B;\">Curricular units 1st sem (without evaluations)</h3>"
   ]
  },
  {
   "cell_type": "markdown",
   "id": "862fbe8e",
   "metadata": {},
   "source": [
    "<li style=\"color: #0E66AD; font-weight: bold;\">Number of curricular units without evalutions in the 1st semester</li>"
   ]
  },
  {
   "cell_type": "markdown",
   "id": "4e3505b0",
   "metadata": {},
   "source": [
    "<hr/>"
   ]
  },
  {
   "cell_type": "markdown",
   "id": "600a3605",
   "metadata": {},
   "source": [
    "<h3 style=\"color: #92B24B;\">Curricular units 2nd sem (credited)</h3>"
   ]
  },
  {
   "cell_type": "markdown",
   "id": "9c6d742b",
   "metadata": {},
   "source": [
    "<li style=\"color: #0E66AD; font-weight: bold;\">Number of curricular units credited in the 2nd semester</li>"
   ]
  },
  {
   "cell_type": "markdown",
   "id": "2a59086f",
   "metadata": {},
   "source": [
    "<hr/>"
   ]
  },
  {
   "cell_type": "markdown",
   "id": "f619cead",
   "metadata": {},
   "source": [
    "<h3 style=\"color: #92B24B;\">Curricular units 2nd sem (enrolled)</h3>"
   ]
  },
  {
   "cell_type": "markdown",
   "id": "f15fb549",
   "metadata": {},
   "source": [
    "<li style=\"color: #0E66AD; font-weight: bold;\">Number of curricular units enrolled in the 2nd semester</li>"
   ]
  },
  {
   "cell_type": "markdown",
   "id": "6764e588",
   "metadata": {},
   "source": [
    "<hr/>"
   ]
  },
  {
   "cell_type": "markdown",
   "id": "677224bc",
   "metadata": {},
   "source": [
    "<h3 style=\"color: #92B24B;\">Curricular units 2nd sem (evaluations)</h3>"
   ]
  },
  {
   "cell_type": "markdown",
   "id": "40bd8039",
   "metadata": {},
   "source": [
    "<li style=\"color: #0E66AD; font-weight: bold;\">Number of evaluations to curricular units in the 2nd semester</li>"
   ]
  },
  {
   "cell_type": "markdown",
   "id": "9ec2e114",
   "metadata": {},
   "source": [
    "<hr/>"
   ]
  },
  {
   "cell_type": "markdown",
   "id": "242b303a",
   "metadata": {},
   "source": [
    "<h3 style=\"color: #92B24B;\">Curricular units 2nd sem (approved)</h3>"
   ]
  },
  {
   "cell_type": "markdown",
   "id": "4c5aa056",
   "metadata": {},
   "source": [
    "<li style=\"color: #0E66AD; font-weight: bold;\">Number of curricular units approved in the 2nd semester</li>"
   ]
  },
  {
   "cell_type": "markdown",
   "id": "b13de74a",
   "metadata": {},
   "source": [
    "<hr/>"
   ]
  },
  {
   "cell_type": "markdown",
   "id": "6d3131da",
   "metadata": {},
   "source": [
    "<h3 style=\"color: #92B24B;\">Curricular units 2nd sem (grade)</h3>"
   ]
  },
  {
   "cell_type": "markdown",
   "id": "86989dee",
   "metadata": {},
   "source": [
    "<li style=\"color: #0E66AD; font-weight: bold;\">Grade average in the 2nd semester (between 0 and 20)</li>"
   ]
  },
  {
   "cell_type": "markdown",
   "id": "04b36a87",
   "metadata": {},
   "source": [
    "<hr/>"
   ]
  },
  {
   "cell_type": "markdown",
   "id": "752afc7b",
   "metadata": {},
   "source": [
    "<h3 style=\"color: #92B24B;\">Curricular units 2nd sem (without evaluations)</h3>"
   ]
  },
  {
   "cell_type": "markdown",
   "id": "5dbabf82",
   "metadata": {},
   "source": [
    "<li style=\"color: #0E66AD; font-weight: bold;\">Number of curricular units without evalutions in the 1st semester</li>"
   ]
  },
  {
   "cell_type": "markdown",
   "id": "86287793",
   "metadata": {},
   "source": [
    "<hr/>"
   ]
  },
  {
   "cell_type": "markdown",
   "id": "290ec7a4",
   "metadata": {},
   "source": [
    "<h3 style=\"color: #92B24B;\">Inflation rate</h3>"
   ]
  },
  {
   "cell_type": "markdown",
   "id": "901b2534",
   "metadata": {},
   "source": [
    "\n",
    "<li style=\"color: #0E66AD; font-weight: bold;\">Inflation rate (%)</li>"
   ]
  },
  {
   "cell_type": "markdown",
   "id": "6b4f6790",
   "metadata": {},
   "source": [
    "<hr/>"
   ]
  },
  {
   "cell_type": "markdown",
   "id": "6017a0a0",
   "metadata": {},
   "source": [
    "<h3 style=\"color: #92B24B;\">GDP</h3>"
   ]
  },
  {
   "cell_type": "code",
   "execution_count": null,
   "id": "dfa4df5c",
   "metadata": {},
   "outputs": [],
   "source": []
  },
  {
   "cell_type": "markdown",
   "id": "8cbab647",
   "metadata": {},
   "source": [
    "<hr/>"
   ]
  },
  {
   "cell_type": "markdown",
   "id": "fffc06ee",
   "metadata": {},
   "source": [
    "<h3 style=\"color: #92B24B;\">Unemployment rate</h3>"
   ]
  },
  {
   "cell_type": "markdown",
   "id": "efee6f47",
   "metadata": {},
   "source": [
    "\n",
    "<li style=\"color: #0E66AD; font-weight: bold;\">Unemployment rate (%)</li>"
   ]
  },
  {
   "cell_type": "code",
   "execution_count": 15,
   "id": "7203b68f",
   "metadata": {},
   "outputs": [
    {
     "data": {
      "text/plain": [
       "<Axes: xlabel='Unemployment rate'>"
      ]
     },
     "execution_count": 15,
     "metadata": {},
     "output_type": "execute_result"
    },
    {
     "data": {
      "image/png": "[encoded data removed]",
      "text/plain": [
       "<Figure size 1400x600 with 1 Axes>"
      ]
     },
     "metadata": {},
     "output_type": "display_data"
    }
   ],
   "source": [
    "df_train['Unemployment rate'].value_counts().plot(kind='bar',figsize=(14,6), color='orange')"
   ]
  },
  {
   "cell_type": "code",
   "execution_count": 16,
   "id": "307c5870",
   "metadata": {
    "scrolled": false
   },
   "outputs": [
    {
     "data": {
      "text/plain": [
       "<Axes: >"
      ]
     },
     "execution_count": 16,
     "metadata": {},
     "output_type": "execute_result"
    },
    {
     "data": {
      "image/png": "[encoded data removed]",
      "text/plain": [
       "<Figure size 1400x600 with 1 Axes>"
      ]
     },
     "metadata": {},
     "output_type": "display_data"
    }
   ],
   "source": [
    "df_train['Unemployment rate'].plot(kind='box', vert=False, figsize=(14,6))"
   ]
  },
  {
   "cell_type": "markdown",
   "id": "7c459011",
   "metadata": {},
   "source": [
    "<hr/>"
   ]
  },
  {
   "cell_type": "markdown",
   "id": "e74e708c",
   "metadata": {},
   "source": [
    "<h3 style=\"color: #92B24B;\">Target</h3>"
   ]
  },
  {
   "cell_type": "markdown",
   "id": "e09ba8bc",
   "metadata": {},
   "source": [
    "\n",
    "<li style=\"color: #0E66AD; font-weight: bold;\">Target. The problem is formulated as a three category classification task (dropout, enrolled, and graduate) at the end of the normal duration of the course\n",
    "</li>"
   ]
  },
  {
   "cell_type": "code",
   "execution_count": 17,
   "id": "07650c0c",
   "metadata": {
    "scrolled": false
   },
   "outputs": [
    {
     "data": {
      "text/plain": [
       "<Axes: xlabel='Target'>"
      ]
     },
     "execution_count": 17,
     "metadata": {},
     "output_type": "execute_result"
    },
    {
     "data": {
      "image/png": "[encoded data removed]",
      "text/plain": [
       "<Figure size 1400x600 with 1 Axes>"
      ]
     },
     "metadata": {},
     "output_type": "display_data"
    }
   ],
   "source": [
    "df_train['Target'].value_counts().plot(kind='bar', figsize=(14, 6), color='orange')"
   ]
  },
  {
   "cell_type": "markdown",
   "id": "33d441bd",
   "metadata": {},
   "source": [
    "<hr/>"
   ]
  }
 ],
 "metadata": {
  "kernelspec": {
   "display_name": "Python 3 (ipykernel)",
   "language": "python",
   "name": "python3"
  },
  "language_info": {
   "codemirror_mode": {
    "name": "ipython",
    "version": 3
   },
   "file_extension": ".py",
   "mimetype": "text/x-python",
   "name": "python",
   "nbconvert_exporter": "python",
   "pygments_lexer": "ipython3",
   "version": "3.11.5"
  }
 },
 "nbformat": 4,
 "nbformat_minor": 5
}
