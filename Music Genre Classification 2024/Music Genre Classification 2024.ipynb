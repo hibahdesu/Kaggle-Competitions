{
 "cells": [
  {
   "cell_type": "markdown",
   "id": "df97a99b-c27b-4382-99c8-c326386b9252",
   "metadata": {},
   "source": [
    "# Music Genre Classification 2024"
   ]
  },
  {
   "cell_type": "markdown",
   "id": "596af5f4-e729-45d3-8013-f4a4a5cb4993",
   "metadata": {},
   "source": [
    "## Importing the labiraries"
   ]
  },
  {
   "cell_type": "code",
   "execution_count": 1,
   "id": "b0af1f2c-9b88-4cfa-bebd-be6d098a39de",
   "metadata": {},
   "outputs": [],
   "source": [
    "import pandas as pd\n",
    "import numpy as np"
   ]
  },
  {
   "cell_type": "markdown",
   "id": "edd69c2f-d284-487e-8c32-4e342efe6b96",
   "metadata": {},
   "source": [
    "## Reading the data"
   ]
  },
  {
   "cell_type": "code",
   "execution_count": 3,
   "id": "c7482962-49a5-4131-8410-f309d1b7b02d",
   "metadata": {},
   "outputs": [
    {
     "data": {
      "text/html": [
       "<div>\n",
       "<style scoped>\n",
       "    .dataframe tbody tr th:only-of-type {\n",
       "        vertical-align: middle;\n",
       "    }\n",
       "\n",
       "    .dataframe tbody tr th {\n",
       "        vertical-align: top;\n",
       "    }\n",
       "\n",
       "    .dataframe thead th {\n",
       "        text-align: right;\n",
       "    }\n",
       "</style>\n",
       "<table border=\"1\" class=\"dataframe\">\n",
       "  <thead>\n",
       "    <tr style=\"text-align: right;\">\n",
       "      <th></th>\n",
       "      <th>Id</th>\n",
       "      <th>Artist Name</th>\n",
       "      <th>Track Name</th>\n",
       "      <th>Popularity</th>\n",
       "      <th>danceability</th>\n",
       "      <th>energy</th>\n",
       "      <th>key</th>\n",
       "      <th>loudness</th>\n",
       "      <th>mode</th>\n",
       "      <th>speechiness</th>\n",
       "      <th>acousticness</th>\n",
       "      <th>instrumentalness</th>\n",
       "      <th>liveness</th>\n",
       "      <th>valence</th>\n",
       "      <th>tempo</th>\n",
       "      <th>duration_in min/ms</th>\n",
       "      <th>time_signature</th>\n",
       "      <th>Class</th>\n",
       "    </tr>\n",
       "  </thead>\n",
       "  <tbody>\n",
       "    <tr>\n",
       "      <th>0</th>\n",
       "      <td>1</td>\n",
       "      <td>Marina Maximilian</td>\n",
       "      <td>Not Afraid</td>\n",
       "      <td>37.0</td>\n",
       "      <td>0.334</td>\n",
       "      <td>0.536</td>\n",
       "      <td>9.0</td>\n",
       "      <td>-6.649</td>\n",
       "      <td>0</td>\n",
       "      <td>0.0381</td>\n",
       "      <td>0.378000</td>\n",
       "      <td>NaN</td>\n",
       "      <td>0.106</td>\n",
       "      <td>0.235</td>\n",
       "      <td>152.429</td>\n",
       "      <td>204947.0</td>\n",
       "      <td>4</td>\n",
       "      <td>9</td>\n",
       "    </tr>\n",
       "    <tr>\n",
       "      <th>1</th>\n",
       "      <td>2</td>\n",
       "      <td>The Black Keys</td>\n",
       "      <td>Howlin' for You</td>\n",
       "      <td>67.0</td>\n",
       "      <td>0.725</td>\n",
       "      <td>0.747</td>\n",
       "      <td>11.0</td>\n",
       "      <td>-5.545</td>\n",
       "      <td>1</td>\n",
       "      <td>0.0876</td>\n",
       "      <td>0.027200</td>\n",
       "      <td>0.0468</td>\n",
       "      <td>0.104</td>\n",
       "      <td>0.380</td>\n",
       "      <td>132.921</td>\n",
       "      <td>191956.0</td>\n",
       "      <td>4</td>\n",
       "      <td>6</td>\n",
       "    </tr>\n",
       "    <tr>\n",
       "      <th>2</th>\n",
       "      <td>3</td>\n",
       "      <td>Royal &amp; the Serpent</td>\n",
       "      <td>phuck u</td>\n",
       "      <td>NaN</td>\n",
       "      <td>0.584</td>\n",
       "      <td>0.804</td>\n",
       "      <td>7.0</td>\n",
       "      <td>-6.094</td>\n",
       "      <td>1</td>\n",
       "      <td>0.0619</td>\n",
       "      <td>0.000968</td>\n",
       "      <td>0.6350</td>\n",
       "      <td>0.284</td>\n",
       "      <td>0.635</td>\n",
       "      <td>159.953</td>\n",
       "      <td>161037.0</td>\n",
       "      <td>4</td>\n",
       "      <td>10</td>\n",
       "    </tr>\n",
       "    <tr>\n",
       "      <th>3</th>\n",
       "      <td>4</td>\n",
       "      <td>Detroit Blues Band</td>\n",
       "      <td>Missing You</td>\n",
       "      <td>12.0</td>\n",
       "      <td>0.515</td>\n",
       "      <td>0.308</td>\n",
       "      <td>NaN</td>\n",
       "      <td>-14.711</td>\n",
       "      <td>1</td>\n",
       "      <td>0.0312</td>\n",
       "      <td>0.907000</td>\n",
       "      <td>0.0213</td>\n",
       "      <td>0.300</td>\n",
       "      <td>0.501</td>\n",
       "      <td>172.472</td>\n",
       "      <td>298093.0</td>\n",
       "      <td>3</td>\n",
       "      <td>2</td>\n",
       "    </tr>\n",
       "    <tr>\n",
       "      <th>4</th>\n",
       "      <td>5</td>\n",
       "      <td>Coast Contra</td>\n",
       "      <td>My Lady</td>\n",
       "      <td>48.0</td>\n",
       "      <td>0.565</td>\n",
       "      <td>0.777</td>\n",
       "      <td>6.0</td>\n",
       "      <td>-5.096</td>\n",
       "      <td>0</td>\n",
       "      <td>0.2490</td>\n",
       "      <td>0.183000</td>\n",
       "      <td>NaN</td>\n",
       "      <td>0.211</td>\n",
       "      <td>0.619</td>\n",
       "      <td>88.311</td>\n",
       "      <td>254145.0</td>\n",
       "      <td>4</td>\n",
       "      <td>5</td>\n",
       "    </tr>\n",
       "  </tbody>\n",
       "</table>\n",
       "</div>"
      ],
      "text/plain": [
       "   Id          Artist Name       Track Name  Popularity  danceability  energy  \\\n",
       "0   1    Marina Maximilian       Not Afraid        37.0         0.334   0.536   \n",
       "1   2       The Black Keys  Howlin' for You        67.0         0.725   0.747   \n",
       "2   3  Royal & the Serpent          phuck u         NaN         0.584   0.804   \n",
       "3   4   Detroit Blues Band      Missing You        12.0         0.515   0.308   \n",
       "4   5         Coast Contra          My Lady        48.0         0.565   0.777   \n",
       "\n",
       "    key  loudness  mode  speechiness  acousticness  instrumentalness  \\\n",
       "0   9.0    -6.649     0       0.0381      0.378000               NaN   \n",
       "1  11.0    -5.545     1       0.0876      0.027200            0.0468   \n",
       "2   7.0    -6.094     1       0.0619      0.000968            0.6350   \n",
       "3   NaN   -14.711     1       0.0312      0.907000            0.0213   \n",
       "4   6.0    -5.096     0       0.2490      0.183000               NaN   \n",
       "\n",
       "   liveness  valence    tempo  duration_in min/ms  time_signature  Class  \n",
       "0     0.106    0.235  152.429            204947.0               4      9  \n",
       "1     0.104    0.380  132.921            191956.0               4      6  \n",
       "2     0.284    0.635  159.953            161037.0               4     10  \n",
       "3     0.300    0.501  172.472            298093.0               3      2  \n",
       "4     0.211    0.619   88.311            254145.0               4      5  "
      ]
     },
     "execution_count": 3,
     "metadata": {},
     "output_type": "execute_result"
    }
   ],
   "source": [
    "#Reading the train data\n",
    "df = pd.read_csv('data/train.csv')\n",
    "#Seeing the head of it\n",
    "df.head()"
   ]
  },
  {
   "cell_type": "code",
   "execution_count": 9,
   "id": "64129f01-a4a3-4357-ae99-2690822aabba",
   "metadata": {},
   "outputs": [
    {
     "data": {
      "text/html": [
       "<div>\n",
       "<style scoped>\n",
       "    .dataframe tbody tr th:only-of-type {\n",
       "        vertical-align: middle;\n",
       "    }\n",
       "\n",
       "    .dataframe tbody tr th {\n",
       "        vertical-align: top;\n",
       "    }\n",
       "\n",
       "    .dataframe thead th {\n",
       "        text-align: right;\n",
       "    }\n",
       "</style>\n",
       "<table border=\"1\" class=\"dataframe\">\n",
       "  <thead>\n",
       "    <tr style=\"text-align: right;\">\n",
       "      <th></th>\n",
       "      <th>Id</th>\n",
       "      <th>Artist Name</th>\n",
       "      <th>Track Name</th>\n",
       "      <th>Popularity</th>\n",
       "      <th>danceability</th>\n",
       "      <th>energy</th>\n",
       "      <th>key</th>\n",
       "      <th>loudness</th>\n",
       "      <th>mode</th>\n",
       "      <th>speechiness</th>\n",
       "      <th>acousticness</th>\n",
       "      <th>instrumentalness</th>\n",
       "      <th>liveness</th>\n",
       "      <th>valence</th>\n",
       "      <th>tempo</th>\n",
       "      <th>duration_in min/ms</th>\n",
       "      <th>time_signature</th>\n",
       "    </tr>\n",
       "  </thead>\n",
       "  <tbody>\n",
       "    <tr>\n",
       "      <th>0</th>\n",
       "      <td>14397</td>\n",
       "      <td>Juan Pablo Vega</td>\n",
       "      <td>Matando (feat. Vic Mirallas)</td>\n",
       "      <td>NaN</td>\n",
       "      <td>0.691</td>\n",
       "      <td>0.670</td>\n",
       "      <td>2.0</td>\n",
       "      <td>-7.093</td>\n",
       "      <td>0</td>\n",
       "      <td>0.0941</td>\n",
       "      <td>0.075700</td>\n",
       "      <td>0.035200</td>\n",
       "      <td>0.1970</td>\n",
       "      <td>0.635</td>\n",
       "      <td>89.965</td>\n",
       "      <td>200000.0</td>\n",
       "      <td>4</td>\n",
       "    </tr>\n",
       "    <tr>\n",
       "      <th>1</th>\n",
       "      <td>14398</td>\n",
       "      <td>Kappi Kat</td>\n",
       "      <td>Baarish</td>\n",
       "      <td>14.0</td>\n",
       "      <td>0.461</td>\n",
       "      <td>0.777</td>\n",
       "      <td>2.0</td>\n",
       "      <td>-7.469</td>\n",
       "      <td>1</td>\n",
       "      <td>0.0306</td>\n",
       "      <td>0.388000</td>\n",
       "      <td>0.923000</td>\n",
       "      <td>0.2910</td>\n",
       "      <td>0.525</td>\n",
       "      <td>163.043</td>\n",
       "      <td>283909.0</td>\n",
       "      <td>4</td>\n",
       "    </tr>\n",
       "    <tr>\n",
       "      <th>2</th>\n",
       "      <td>14399</td>\n",
       "      <td>Plain White T's</td>\n",
       "      <td>Hey There Delilah</td>\n",
       "      <td>80.0</td>\n",
       "      <td>0.656</td>\n",
       "      <td>0.291</td>\n",
       "      <td>2.0</td>\n",
       "      <td>-10.572</td>\n",
       "      <td>1</td>\n",
       "      <td>0.0293</td>\n",
       "      <td>0.872000</td>\n",
       "      <td>NaN</td>\n",
       "      <td>0.1140</td>\n",
       "      <td>0.298</td>\n",
       "      <td>103.971</td>\n",
       "      <td>232533.0</td>\n",
       "      <td>4</td>\n",
       "    </tr>\n",
       "    <tr>\n",
       "      <th>3</th>\n",
       "      <td>14400</td>\n",
       "      <td>WALK THE MOON</td>\n",
       "      <td>Different Colors</td>\n",
       "      <td>52.0</td>\n",
       "      <td>0.480</td>\n",
       "      <td>0.826</td>\n",
       "      <td>NaN</td>\n",
       "      <td>-4.602</td>\n",
       "      <td>1</td>\n",
       "      <td>0.0397</td>\n",
       "      <td>0.000797</td>\n",
       "      <td>0.000001</td>\n",
       "      <td>0.1250</td>\n",
       "      <td>0.687</td>\n",
       "      <td>96.000</td>\n",
       "      <td>222053.0</td>\n",
       "      <td>4</td>\n",
       "    </tr>\n",
       "    <tr>\n",
       "      <th>4</th>\n",
       "      <td>14401</td>\n",
       "      <td>Peled</td>\n",
       "      <td>◊ß◊®◊ô◊ñ</td>\n",
       "      <td>23.0</td>\n",
       "      <td>0.734</td>\n",
       "      <td>0.729</td>\n",
       "      <td>1.0</td>\n",
       "      <td>-6.381</td>\n",
       "      <td>0</td>\n",
       "      <td>0.2830</td>\n",
       "      <td>0.147000</td>\n",
       "      <td>NaN</td>\n",
       "      <td>0.0672</td>\n",
       "      <td>0.805</td>\n",
       "      <td>76.030</td>\n",
       "      <td>118439.0</td>\n",
       "      <td>4</td>\n",
       "    </tr>\n",
       "  </tbody>\n",
       "</table>\n",
       "</div>"
      ],
      "text/plain": [
       "      Id      Artist Name                    Track Name  Popularity  \\\n",
       "0  14397  Juan Pablo Vega  Matando (feat. Vic Mirallas)         NaN   \n",
       "1  14398        Kappi Kat                       Baarish        14.0   \n",
       "2  14399  Plain White T's             Hey There Delilah        80.0   \n",
       "3  14400    WALK THE MOON              Different Colors        52.0   \n",
       "4  14401            Peled                      ◊ß◊®◊ô◊ñ        23.0   \n",
       "\n",
       "   danceability  energy  key  loudness  mode  speechiness  acousticness  \\\n",
       "0         0.691   0.670  2.0    -7.093     0       0.0941      0.075700   \n",
       "1         0.461   0.777  2.0    -7.469     1       0.0306      0.388000   \n",
       "2         0.656   0.291  2.0   -10.572     1       0.0293      0.872000   \n",
       "3         0.480   0.826  NaN    -4.602     1       0.0397      0.000797   \n",
       "4         0.734   0.729  1.0    -6.381     0       0.2830      0.147000   \n",
       "\n",
       "   instrumentalness  liveness  valence    tempo  duration_in min/ms  \\\n",
       "0          0.035200    0.1970    0.635   89.965            200000.0   \n",
       "1          0.923000    0.2910    0.525  163.043            283909.0   \n",
       "2               NaN    0.1140    0.298  103.971            232533.0   \n",
       "3          0.000001    0.1250    0.687   96.000            222053.0   \n",
       "4               NaN    0.0672    0.805   76.030            118439.0   \n",
       "\n",
       "   time_signature  \n",
       "0               4  \n",
       "1               4  \n",
       "2               4  \n",
       "3               4  \n",
       "4               4  "
      ]
     },
     "execution_count": 9,
     "metadata": {},
     "output_type": "execute_result"
    }
   ],
   "source": [
    "#Reading the test data\n",
    "df_test = pd.read_csv('data/test.csv')\n",
    "#Seeing the head of it\n",
    "df_test.head()"
   ]
  },
  {
   "cell_type": "markdown",
   "id": "25d003df-4bc2-4f08-b97e-f78ed8662320",
   "metadata": {},
   "source": [
    "### Checking the columsn"
   ]
  },
  {
   "cell_type": "code",
   "execution_count": 12,
   "id": "520c8e23-85e0-45ab-adb1-9e436448775d",
   "metadata": {},
   "outputs": [
    {
     "data": {
      "text/plain": [
       "Index(['Id', 'Artist Name', 'Track Name', 'Popularity', 'danceability',\n",
       "       'energy', 'key', 'loudness', 'mode', 'speechiness', 'acousticness',\n",
       "       'instrumentalness', 'liveness', 'valence', 'tempo',\n",
       "       'duration_in min/ms', 'time_signature', 'Class'],\n",
       "      dtype='object')"
      ]
     },
     "execution_count": 12,
     "metadata": {},
     "output_type": "execute_result"
    }
   ],
   "source": [
    "df.columns"
   ]
  },
  {
   "cell_type": "code",
   "execution_count": 19,
   "id": "326c095f-e73f-4851-993f-fcab2cf7dd81",
   "metadata": {},
   "outputs": [
    {
     "name": "stdout",
     "output_type": "stream",
     "text": [
      "The shape of the train data is:  (14396, 18)\n",
      "The shape of the test data is:  (3600, 17)\n"
     ]
    }
   ],
   "source": [
    "### Checking the shape of the data\n",
    "print('The shape of the train data is: ', df.shape)\n",
    "print('The shape of the test data is: ', df_test.shape)"
   ]
  },
  {
   "cell_type": "markdown",
   "id": "a81040b2-6b83-4131-9fce-cfb4158f1a47",
   "metadata": {},
   "source": [
    "### Checking the null data"
   ]
  },
  {
   "cell_type": "code",
   "execution_count": 15,
   "id": "ccab10fd-364f-4069-a869-c26b44e75d9a",
   "metadata": {},
   "outputs": [
    {
     "data": {
      "text/plain": [
       "Id                       0\n",
       "Artist Name              0\n",
       "Track Name               0\n",
       "Popularity             333\n",
       "danceability             0\n",
       "energy                   0\n",
       "key                   1609\n",
       "loudness                 0\n",
       "mode                     0\n",
       "speechiness              0\n",
       "acousticness             0\n",
       "instrumentalness      3541\n",
       "liveness                 0\n",
       "valence                  0\n",
       "tempo                    0\n",
       "duration_in min/ms       0\n",
       "time_signature           0\n",
       "Class                    0\n",
       "dtype: int64"
      ]
     },
     "execution_count": 15,
     "metadata": {},
     "output_type": "execute_result"
    }
   ],
   "source": [
    "#Checking the null data in the train data\n",
    "df.isnull().sum()\n",
    "#As we can see, we do have null data \n",
    "#We have null data in Popularity,key, and instrumentalness"
   ]
  },
  {
   "cell_type": "code",
   "execution_count": 17,
   "id": "8229cdd5-d013-4946-846d-1156ed0d6007",
   "metadata": {},
   "outputs": [
    {
     "data": {
      "text/plain": [
       "Id                      0\n",
       "Artist Name             0\n",
       "Track Name              0\n",
       "Popularity             95\n",
       "danceability            0\n",
       "energy                  0\n",
       "key                   405\n",
       "loudness                0\n",
       "mode                    0\n",
       "speechiness             0\n",
       "acousticness            0\n",
       "instrumentalness      836\n",
       "liveness                0\n",
       "valence                 0\n",
       "tempo                   0\n",
       "duration_in min/ms      0\n",
       "time_signature          0\n",
       "dtype: int64"
      ]
     },
     "execution_count": 17,
     "metadata": {},
     "output_type": "execute_result"
    }
   ],
   "source": [
    "#Checking the null data in the test data\n",
    "df_test.isnull().sum()\n",
    "#We have null data in Popularity,key, and instrumentalness"
   ]
  },
  {
   "cell_type": "markdown",
   "id": "e6cd5dd3-55b7-4b7e-bcff-7b3b9c3ec3f8",
   "metadata": {},
   "source": [
    "### Checking the duplicated data"
   ]
  },
  {
   "cell_type": "code",
   "execution_count": 24,
   "id": "aa632251-4cf4-4a97-b32a-5e563a2c66ce",
   "metadata": {},
   "outputs": [
    {
     "data": {
      "text/plain": [
       "0"
      ]
     },
     "execution_count": 24,
     "metadata": {},
     "output_type": "execute_result"
    }
   ],
   "source": [
    "# Checking the duplicated data in train data\n",
    "df.duplicated().sum()\n",
    "#As we can see, we do not have duplicated data"
   ]
  },
  {
   "cell_type": "code",
   "execution_count": 26,
   "id": "697273fb-0d2b-419e-8566-c369fe7765f4",
   "metadata": {},
   "outputs": [
    {
     "data": {
      "text/plain": [
       "0"
      ]
     },
     "execution_count": 26,
     "metadata": {},
     "output_type": "execute_result"
    }
   ],
   "source": [
    "# Checking the duplicated data in test data\n",
    "df_test.duplicated().sum()\n",
    "#As we can see, we do not have duplicated data"
   ]
  },
  {
   "cell_type": "code",
   "execution_count": null,
   "id": "3c776687-ae0f-4019-99e3-3488afea3775",
   "metadata": {},
   "outputs": [],
   "source": []
  }
 ],
 "metadata": {
  "kernelspec": {
   "display_name": "Python 3 (ipykernel)",
   "language": "python",
   "name": "python3"
  },
  "language_info": {
   "codemirror_mode": {
    "name": "ipython",
    "version": 3
   },
   "file_extension": ".py",
   "mimetype": "text/x-python",
   "name": "python",
   "nbconvert_exporter": "python",
   "pygments_lexer": "ipython3",
   "version": "3.12.4"
  }
 },
 "nbformat": 4,
 "nbformat_minor": 5
}
